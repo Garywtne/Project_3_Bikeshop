{
 "cells": [
  {
   "cell_type": "code",
   "execution_count": 1,
   "id": "e34384ea",
   "metadata": {},
   "outputs": [],
   "source": [
    "import datetime as dt\n",
    "import numpy as np\n",
    "import pandas as pd\n",
    "\n",
    "import sqlalchemy\n",
    "from sqlalchemy.ext.automap import automap_base\n",
    "from sqlalchemy.orm import Session\n",
    "from sqlalchemy import create_engine, func\n",
    "\n",
    "from flask import Flask, jsonify"
   ]
  },
  {
   "cell_type": "code",
   "execution_count": null,
   "id": "6389e690",
   "metadata": {},
   "outputs": [],
   "source": [
    "#################################################\n",
    "# Database Setup\n",
    "#################################################\n",
    "# create engine to bike_shop.sqlite"
   ]
  },
  {
   "cell_type": "code",
   "execution_count": 2,
   "id": "2b1d31bc",
   "metadata": {},
   "outputs": [],
   "source": [
    "engine = create_engine(\"sqlite:///../Resources/bike_shop.sqlite\")"
   ]
  },
  {
   "cell_type": "code",
   "execution_count": 3,
   "id": "5b75882f",
   "metadata": {},
   "outputs": [
    {
     "name": "stdout",
     "output_type": "stream",
     "text": [
      "['calendar', 'categories', 'customer', 'products', 'territories']\n"
     ]
    }
   ],
   "source": [
    "# reflect an existing database into a new model\n",
    "Base = automap_base()\n",
    "# reflect the tables\n",
    "Base.prepare(engine, reflect=True)\n",
    "print(Base.classes.keys())"
   ]
  },
  {
   "cell_type": "code",
   "execution_count": 4,
   "id": "a2b31efc",
   "metadata": {},
   "outputs": [],
   "source": [
    "# Save references to each table\n",
    "Customers = Base.classes.customer\n",
    "Products = Base.classes.products\n",
    "Territories = Base.classes.territories\n",
    "Categories = Base.classes.categories\n",
    "Calendar = Base.classes.calendar"
   ]
  },
  {
   "cell_type": "code",
   "execution_count": 5,
   "id": "baa3cf8e",
   "metadata": {},
   "outputs": [],
   "source": [
    "# Create our session (link) from Python to the DB\n",
    "session = Session(engine)\n",
    "\n",
    "#################################################\n",
    "# Flask Setup\n",
    "#################################################\n",
    "app = Flask(__name__)\n"
   ]
  },
  {
   "cell_type": "code",
   "execution_count": 6,
   "id": "4d032357",
   "metadata": {},
   "outputs": [],
   "source": [
    "#################################################\n",
    "# Flask Routes\n",
    "#################################################\n",
    "\n",
    "@app.route(\"/\")\n",
    "def welcome():\n",
    "    return (\n",
    "        f\"Welcome to the Bike Shop Analysis Homepage<br/>\"\n",
    "        f\"The avaiable API's are as follows:<br/>\"\n",
    "        f\"/api/v1.0/Customers<br/>\"\n",
    "        f\"/api/v1.0/Products<br/>\"\n",
    "        f\"/api/v1.0/Territories<br/>\"\n",
    "        f\"/api/v1.0/Categories<br/>\"\n",
    "        )\n"
   ]
  },
  {
   "cell_type": "code",
   "execution_count": 8,
   "id": "ab3d4308",
   "metadata": {},
   "outputs": [
    {
     "ename": "SyntaxError",
     "evalue": "unexpected EOF while parsing (Temp/ipykernel_19680/2835933543.py, line 3)",
     "output_type": "error",
     "traceback": [
      "\u001b[1;36m  File \u001b[1;32m\"C:\\Users\\gcwhi\\AppData\\Local\\Temp/ipykernel_19680/2835933543.py\"\u001b[1;36m, line \u001b[1;32m3\u001b[0m\n\u001b[1;33m    @app.route(\"/api/v1.0/Customers\")\u001b[0m\n\u001b[1;37m                                     ^\u001b[0m\n\u001b[1;31mSyntaxError\u001b[0m\u001b[1;31m:\u001b[0m unexpected EOF while parsing\n"
     ]
    }
   ],
   "source": [
    "# Create the route for Customers.\n",
    "\n",
    "@app.route(\"/api/v1.0/Customers\")"
   ]
  },
  {
   "cell_type": "code",
   "execution_count": 7,
   "id": "f9aa1672",
   "metadata": {},
   "outputs": [
    {
     "name": "stdout",
     "output_type": "stream",
     "text": [
      " * Serving Flask app \"__main__\" (lazy loading)\n",
      " * Environment: production\n",
      "\u001b[31m   WARNING: This is a development server. Do not use it in a production deployment.\u001b[0m\n",
      "\u001b[2m   Use a production WSGI server instead.\u001b[0m\n",
      " * Debug mode: on\n"
     ]
    },
    {
     "name": "stderr",
     "output_type": "stream",
     "text": [
      " * Restarting with watchdog (windowsapi)\n"
     ]
    },
    {
     "ename": "SystemExit",
     "evalue": "1",
     "output_type": "error",
     "traceback": [
      "An exception has occurred, use %tb to see the full traceback.\n",
      "\u001b[1;31mSystemExit\u001b[0m\u001b[1;31m:\u001b[0m 1\n"
     ]
    },
    {
     "name": "stderr",
     "output_type": "stream",
     "text": [
      "C:\\Users\\gcwhi\\anaconda3\\anaconda3_1\\lib\\site-packages\\IPython\\core\\interactiveshell.py:3452: UserWarning: To exit: use 'exit', 'quit', or Ctrl-D.\n",
      "  warn(\"To exit: use 'exit', 'quit', or Ctrl-D.\", stacklevel=1)\n"
     ]
    }
   ],
   "source": [
    "if __name__ == \"__main__\":\n",
    "    app.run(debug=True)"
   ]
  },
  {
   "cell_type": "code",
   "execution_count": null,
   "id": "72aa0418",
   "metadata": {},
   "outputs": [],
   "source": []
  }
 ],
 "metadata": {
  "kernelspec": {
   "display_name": "PythonData",
   "language": "python",
   "name": "pythondata"
  },
  "language_info": {
   "codemirror_mode": {
    "name": "ipython",
    "version": 3
   },
   "file_extension": ".py",
   "mimetype": "text/x-python",
   "name": "python",
   "nbconvert_exporter": "python",
   "pygments_lexer": "ipython3",
   "version": "3.9.7"
  }
 },
 "nbformat": 4,
 "nbformat_minor": 5
}
