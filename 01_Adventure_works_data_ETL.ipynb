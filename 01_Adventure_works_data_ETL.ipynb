{
 "cells": [
  {
   "cell_type": "code",
   "execution_count": null,
   "id": "da33ed7b",
   "metadata": {},
   "outputs": [],
   "source": [
    "import pandas as pd"
   ]
  },
  {
   "cell_type": "code",
   "execution_count": null,
   "id": "18ed3bcb",
   "metadata": {},
   "outputs": [],
   "source": [
    "pd.__version__"
   ]
  },
  {
   "cell_type": "code",
   "execution_count": null,
   "id": "4e50c23c",
   "metadata": {},
   "outputs": [],
   "source": [
    "csv_file0 = \"Kaggle_data/AdventureWorks_Customers.csv\"\n",
    "Customers_df = pd.read_csv(csv_file0, encoding=\"ISO-8859_1\")"
   ]
  },
  {
   "cell_type": "code",
   "execution_count": null,
   "id": "58f72785",
   "metadata": {},
   "outputs": [],
   "source": [
    "Customers_df['BirthDate'] = pd.to_datetime(Customers_df['BirthDate'])"
   ]
  },
  {
   "cell_type": "code",
   "execution_count": null,
   "id": "c936b4f8",
   "metadata": {},
   "outputs": [],
   "source": [
    "Customers_df[\"BirthDate\"] = pd.to_datetime(Customers_df[\"BirthDate\"]).dt.strftime('%Y-%m-%d')"
   ]
  },
  {
   "cell_type": "code",
   "execution_count": null,
   "id": "39dc45a8",
   "metadata": {},
   "outputs": [],
   "source": [
    "Customers_df['AnnualIncome']=Customers_df['AnnualIncome'].str.replace('$' ,'')"
   ]
  },
  {
   "cell_type": "code",
   "execution_count": null,
   "id": "d290536c",
   "metadata": {},
   "outputs": [],
   "source": [
    "Customers_df['AnnualIncome']=Customers_df['AnnualIncome'].str.replace(',' ,'')"
   ]
  },
  {
   "cell_type": "code",
   "execution_count": null,
   "id": "176eef50",
   "metadata": {},
   "outputs": [],
   "source": [
    "Customers_df['AnnualIncome'] = pd.to_numeric(Customers_df['AnnualIncome'])"
   ]
  },
  {
   "cell_type": "code",
   "execution_count": null,
   "id": "2567b941",
   "metadata": {},
   "outputs": [],
   "source": [
    "csv_file1 = \"Kaggle_data/AdventureWorks_Calendar.csv\"\n",
    "Calendar_df = pd.read_csv(csv_file1)"
   ]
  },
  {
   "cell_type": "code",
   "execution_count": null,
   "id": "8e5baddb",
   "metadata": {},
   "outputs": [],
   "source": [
    "Calendar_df[\"Date\"] = pd.to_datetime(Calendar_df[\"Date\"]).dt.strftime('%Y-%m-%d')"
   ]
  },
  {
   "cell_type": "code",
   "execution_count": null,
   "id": "9b029fc7",
   "metadata": {},
   "outputs": [],
   "source": [
    "Calendar_df = Calendar_df.reset_index(drop=False)"
   ]
  },
  {
   "cell_type": "code",
   "execution_count": null,
   "id": "d56d85d2",
   "metadata": {},
   "outputs": [],
   "source": [
    "Calendar_df.rename(columns={'index': 'dateId'},inplace=True)"
   ]
  },
  {
   "cell_type": "code",
   "execution_count": null,
   "id": "20964c5c",
   "metadata": {},
   "outputs": [],
   "source": [
    "csv_file2 = \"Kaggle_data/AdventureWorks_Product_Categories.csv\"\n",
    "Product_Categories_df = pd.read_csv(csv_file2)"
   ]
  },
  {
   "cell_type": "code",
   "execution_count": null,
   "id": "82c5c496",
   "metadata": {},
   "outputs": [],
   "source": [
    "csv_file3 = \"Kaggle_data/AdventureWorks_Product_Subcategories.csv\"\n",
    "Product_Subcategories_df = pd.read_csv(csv_file3)"
   ]
  },
  {
   "cell_type": "code",
   "execution_count": null,
   "id": "5ca772ac",
   "metadata": {},
   "outputs": [],
   "source": [
    "categories = pd.merge(Product_Subcategories_df,Product_Categories_df, how=\"left\",on='ProductCategoryKey')"
   ]
  },
  {
   "cell_type": "code",
   "execution_count": null,
   "id": "fce639d2",
   "metadata": {},
   "outputs": [],
   "source": [
    "csv_file3 = \"Kaggle_data/AdventureWorks_Products.csv\"\n",
    "Products_df = pd.read_csv(csv_file3)"
   ]
  },
  {
   "cell_type": "code",
   "execution_count": null,
   "id": "37f2c30c",
   "metadata": {},
   "outputs": [],
   "source": [
    "csv_file4 = \"Kaggle_data/AdventureWorks_Returns.csv\"\n",
    "Returns_df = pd.read_csv(csv_file4)"
   ]
  },
  {
   "cell_type": "code",
   "execution_count": null,
   "id": "1dfb8f1d",
   "metadata": {},
   "outputs": [],
   "source": [
    "Returns_df[\"ReturnDate\"] = pd.to_datetime(Returns_df[\"ReturnDate\"]).dt.strftime('%Y-%m-%d')"
   ]
  },
  {
   "cell_type": "code",
   "execution_count": null,
   "id": "542eb456",
   "metadata": {},
   "outputs": [],
   "source": [
    "Returns_df = Returns_df.reset_index(drop=False)"
   ]
  },
  {
   "cell_type": "code",
   "execution_count": null,
   "id": "e5316caf",
   "metadata": {},
   "outputs": [],
   "source": [
    "Returns_df.rename(columns={'index': 'returnId'},inplace=True)"
   ]
  },
  {
   "cell_type": "code",
   "execution_count": null,
   "id": "cc7680ea",
   "metadata": {},
   "outputs": [],
   "source": [
    "csv_file5 = \"Kaggle_data/AdventureWorks_Sales_2015.csv\"\n",
    "Sales_2015_df = pd.read_csv(csv_file5)"
   ]
  },
  {
   "cell_type": "code",
   "execution_count": null,
   "id": "6fa9d5e1",
   "metadata": {},
   "outputs": [],
   "source": [
    "csv_file6 = \"Kaggle_data/AdventureWorks_Sales_2016.csv\"\n",
    "Sales_2016_df = pd.read_csv(csv_file6)"
   ]
  },
  {
   "cell_type": "code",
   "execution_count": null,
   "id": "0dc1dc0b",
   "metadata": {},
   "outputs": [],
   "source": [
    "csv_file7 = \"Kaggle_data/AdventureWorks_Sales_2017.csv\"\n",
    "Sales_2017_df = pd.read_csv(csv_file7)"
   ]
  },
  {
   "cell_type": "code",
   "execution_count": null,
   "id": "3c5466b6",
   "metadata": {},
   "outputs": [],
   "source": [
    "sales = [Sales_2015_df, Sales_2016_df, Sales_2017_df]"
   ]
  },
  {
   "cell_type": "code",
   "execution_count": null,
   "id": "e4018195",
   "metadata": {},
   "outputs": [],
   "source": [
    "all_sales = pd.concat(sales)"
   ]
  },
  {
   "cell_type": "code",
   "execution_count": null,
   "id": "da504bf2",
   "metadata": {},
   "outputs": [],
   "source": [
    "all_sales[\"OrderDate\"] = pd.to_datetime(all_sales[\"OrderDate\"]).dt.strftime('%Y-%m-%d')"
   ]
  },
  {
   "cell_type": "code",
   "execution_count": null,
   "id": "4bdf45f0",
   "metadata": {},
   "outputs": [],
   "source": [
    "all_sales[\"StockDate\"] = pd.to_datetime(all_sales[\"StockDate\"]).dt.strftime('%Y-%m-%d')"
   ]
  },
  {
   "cell_type": "code",
   "execution_count": null,
   "id": "54579178",
   "metadata": {},
   "outputs": [],
   "source": [
    "all_sales.rename(columns={'TerritoryKey': 'SalesTerritoryKey'},inplace=True)"
   ]
  },
  {
   "cell_type": "code",
   "execution_count": null,
   "id": "e41ef057",
   "metadata": {},
   "outputs": [],
   "source": [
    "all_sales = all_sales.reset_index(drop=False)"
   ]
  },
  {
   "cell_type": "code",
   "execution_count": null,
   "id": "78930503",
   "metadata": {},
   "outputs": [],
   "source": [
    "all_sales = all_sales.reset_index(level=0)"
   ]
  },
  {
   "cell_type": "code",
   "execution_count": null,
   "id": "82eafdb7",
   "metadata": {},
   "outputs": [],
   "source": [
    "all_sales.pop('index')"
   ]
  },
  {
   "cell_type": "code",
   "execution_count": null,
   "id": "d5215339",
   "metadata": {},
   "outputs": [],
   "source": [
    "all_sales.rename(columns={'level_0': 'saleId'},inplace=True)"
   ]
  },
  {
   "cell_type": "code",
   "execution_count": null,
   "id": "f6694521",
   "metadata": {},
   "outputs": [],
   "source": [
    "csv_file8 = \"Kaggle_data/AdventureWorks_Territories.csv\"\n",
    "Territories_df = pd.read_csv(csv_file8)"
   ]
  },
  {
   "cell_type": "code",
   "execution_count": null,
   "id": "03f4d586",
   "metadata": {},
   "outputs": [],
   "source": [
    "categories.rename(columns = {'ProductSubcategoryKey':'productsubcategorykey','SubcategoryName':'subcategoryname', 'ProductCategoryKey':'productcategorykey',\n",
    "                              'CategoryName':'categoryname'}, inplace = True)"
   ]
  },
  {
   "cell_type": "code",
   "execution_count": null,
   "id": "2f1c6f7e",
   "metadata": {},
   "outputs": [],
   "source": [
    "Returns_df.rename(columns = {'returnId':'returnid','ReturnDate':'returndate', 'TerritoryKey':'territorykey',\n",
    "                              'ProductKey':'productkey','ReturnQuantity':'returnquantity'}, inplace = True)"
   ]
  },
  {
   "cell_type": "code",
   "execution_count": null,
   "id": "743ac264",
   "metadata": {},
   "outputs": [],
   "source": [
    "Territories_df.rename(columns = {'SalesTerritoryKey':'salesterritorykey','Region':'region', 'Country':'country',\n",
    "                              'Continent':'continent'}, inplace = True)"
   ]
  },
  {
   "cell_type": "code",
   "execution_count": null,
   "id": "643de248",
   "metadata": {},
   "outputs": [],
   "source": [
    "Products_df.rename(columns = {'ProductKey':'productkey','ProductSubcategoryKey':'productsubcategorykey', 'ProductSKU':'productsku',\n",
    "                              'ProductName':'productname','ModelName':'modelname','ProductDescription':'productdescription','ProductColor':'productcolor','ProductSize':'productsize','ProductStyle':'productstyle','ProductCost':'productcost','ProductPrice':'productprice'}, inplace = True)"
   ]
  },
  {
   "cell_type": "code",
   "execution_count": null,
   "id": "c674cf8d",
   "metadata": {},
   "outputs": [],
   "source": [
    "Customers_df.rename(columns = {'CustomerKey':'customerkey','Prefix':'prefix', 'FirstName':'firstname',\n",
    "                              'LastName':'lastname','BirthDate':'birthdate','MaritalStatus':'maritalstatus','Gender':'gender','EmailAddress':'emailaddress','AnnualIncome':'annualincome','TotalChildren':'totalchildren','EducationLevel':'educationlevel','Occupation':'occupation','HomeOwner':'homeowner'}, inplace = True)"
   ]
  },
  {
   "cell_type": "code",
   "execution_count": null,
   "id": "433d1660",
   "metadata": {},
   "outputs": [],
   "source": [
    "all_sales.rename(columns = {'saleId':'saleid','OrderDate':'orderdate', 'StockDate':'stockdate',\n",
    "                              'OrderNumber':'ordernumber','ProductKey':'productkey','CustomerKey':'customerkey','SalesTerritoryKey':'salesterritorykey','OrderLineItem':'orderlineitem','OrderQuantity':'orderquantity'}, inplace = True)"
   ]
  },
  {
   "cell_type": "code",
   "execution_count": null,
   "id": "1fa9b4ae",
   "metadata": {},
   "outputs": [],
   "source": [
    "Calendar_df.rename(columns = {'dateId':'dateid','Date':'date'}, inplace = True)"
   ]
  },
  {
   "cell_type": "code",
   "execution_count": null,
   "id": "5039cbee",
   "metadata": {},
   "outputs": [],
   "source": [
    "from sqlalchemy import create_engine\n",
    "from config import postgresPass as pw\n",
    "from config import databasename as dbn"
   ]
  },
  {
   "cell_type": "code",
   "execution_count": null,
   "id": "7b319e3f",
   "metadata": {},
   "outputs": [],
   "source": [
    "protocol = 'postgresql'\n",
    "username = 'postgres'\n",
    "password = pw\n",
    "host = 'localhost'\n",
    "port = 5432\n",
    "database_name = dbn\n",
    "rds_connection_string = f'{protocol}://{username}:{password}@{host}:{port}/{database_name}'\n",
    "engine = create_engine(rds_connection_string)"
   ]
  },
  {
   "cell_type": "code",
   "execution_count": null,
   "id": "e8dee447",
   "metadata": {},
   "outputs": [],
   "source": [
    "engine.table_names()"
   ]
  },
  {
   "cell_type": "code",
   "execution_count": null,
   "id": "6b1350f5",
   "metadata": {},
   "outputs": [],
   "source": [
    "categories.to_csv('Resources/categories.csv',index = False)"
   ]
  },
  {
   "cell_type": "code",
   "execution_count": null,
   "id": "b622cd8c",
   "metadata": {},
   "outputs": [],
   "source": [
    "Products_df.to_csv('Resources/products.csv',index = False)"
   ]
  },
  {
   "cell_type": "code",
   "execution_count": null,
   "id": "e741406f",
   "metadata": {},
   "outputs": [],
   "source": [
    "Territories_df.to_csv('Resources/territories.csv',index = False)"
   ]
  },
  {
   "cell_type": "code",
   "execution_count": null,
   "id": "46139b14",
   "metadata": {},
   "outputs": [],
   "source": [
    "all_sales.to_csv('Resources/sales.csv',index = False)"
   ]
  },
  {
   "cell_type": "code",
   "execution_count": null,
   "id": "b65c3fdc",
   "metadata": {},
   "outputs": [],
   "source": [
    "Returns_df.to_csv('Resources/returns.csv',index = False)"
   ]
  },
  {
   "cell_type": "code",
   "execution_count": null,
   "id": "a6514010",
   "metadata": {},
   "outputs": [],
   "source": [
    "Customers_df.to_csv('Resources/customers.csv',index = False)"
   ]
  },
  {
   "cell_type": "code",
   "execution_count": null,
   "id": "4fac3f3d",
   "metadata": {},
   "outputs": [],
   "source": [
    "Calendar_df.to_csv('Resources/calendar.csv',index = False)"
   ]
  },
  {
   "cell_type": "code",
   "execution_count": null,
   "id": "b48b0b54",
   "metadata": {},
   "outputs": [],
   "source": [
    "#categories.to_sql(name='categories', con=engine, if_exists='append', index=False)"
   ]
  },
  {
   "cell_type": "code",
   "execution_count": null,
   "id": "c7770287",
   "metadata": {},
   "outputs": [],
   "source": [
    "#Products_df.to_sql(name='products', con=engine, if_exists='append', index=False)"
   ]
  },
  {
   "cell_type": "code",
   "execution_count": null,
   "id": "30e8dfef",
   "metadata": {},
   "outputs": [],
   "source": [
    "#Territories_df.to_sql(name='territories', con=engine, if_exists='append', index=False)"
   ]
  },
  {
   "cell_type": "code",
   "execution_count": null,
   "id": "61f3c505",
   "metadata": {},
   "outputs": [],
   "source": [
    "#Calendar_df.to_sql(name='calendar', con=engine, if_exists='append', index=False)"
   ]
  },
  {
   "cell_type": "code",
   "execution_count": null,
   "id": "49b92321",
   "metadata": {},
   "outputs": [],
   "source": [
    "#Customers_df.to_sql(name='customers', con=engine, if_exists='append', index=False)"
   ]
  },
  {
   "cell_type": "code",
   "execution_count": null,
   "id": "c178fa96",
   "metadata": {},
   "outputs": [],
   "source": [
    "#Returns_df.to_sql(name='returns', con=engine, if_exists='append', index=False)"
   ]
  },
  {
   "cell_type": "code",
   "execution_count": null,
   "id": "78595785",
   "metadata": {},
   "outputs": [],
   "source": [
    "#all_sales.to_sql(name='combined_sales', con=engine, if_exists='append', index=False)"
   ]
  },
  {
   "cell_type": "code",
   "execution_count": null,
   "id": "7d63ef87",
   "metadata": {},
   "outputs": [],
   "source": []
  }
 ],
 "metadata": {
  "kernelspec": {
   "display_name": "PythonData",
   "language": "python",
   "name": "pythondata"
  },
  "language_info": {
   "codemirror_mode": {
    "name": "ipython",
    "version": 3
   },
   "file_extension": ".py",
   "mimetype": "text/x-python",
   "name": "python",
   "nbconvert_exporter": "python",
   "pygments_lexer": "ipython3",
   "version": "3.9.7"
  }
 },
 "nbformat": 4,
 "nbformat_minor": 5
}
