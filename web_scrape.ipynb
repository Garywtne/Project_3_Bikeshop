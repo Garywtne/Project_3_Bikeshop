{
 "cells": [
  {
   "cell_type": "code",
   "execution_count": 9,
   "id": "da33ed7b",
   "metadata": {},
   "outputs": [],
   "source": [
    "import pandas as pd\n",
    "from sqlalchemy import create_engine\n",
    "import matplotlib.pyplot as plt\n",
    "from config import postgresPass as pw"
   ]
  },
  {
   "cell_type": "code",
   "execution_count": 10,
   "id": "3c25c9af",
   "metadata": {},
   "outputs": [],
   "source": [
    "%matplotlib inline\n",
    "from matplotlib import style\n",
    "style.use('fivethirtyeight')"
   ]
  },
  {
   "cell_type": "code",
   "execution_count": 11,
   "id": "5407ad9c",
   "metadata": {},
   "outputs": [],
   "source": [
    "import numpy as np\n",
    "import datetime as dt"
   ]
  },
  {
   "cell_type": "code",
   "execution_count": 12,
   "id": "3dca1844",
   "metadata": {},
   "outputs": [],
   "source": [
    "from splinter import Browser\n",
    "from bs4 import BeautifulSoup as soup\n",
    "from webdriver_manager.chrome import ChromeDriverManager"
   ]
  },
  {
   "cell_type": "code",
   "execution_count": 13,
   "id": "f34bff6d",
   "metadata": {},
   "outputs": [],
   "source": [
    "# Python SQL toolkit and Object Relational Mapper\n",
    "import sqlalchemy\n",
    "from sqlalchemy.ext.automap import automap_base\n",
    "from sqlalchemy.orm import Session\n",
    "from sqlalchemy import func, inspect"
   ]
  },
  {
   "cell_type": "code",
   "execution_count": 14,
   "id": "48c568c8",
   "metadata": {},
   "outputs": [],
   "source": [
    "protocol = 'postgresql'\n",
    "username = 'postgres'\n",
    "password = pw\n",
    "host = 'localhost'\n",
    "port = 5432\n",
    "database_name = 'bike_shop_test'\n",
    "rds_connection_string = f'{protocol}://{username}:{password}@{host}:{port}/{database_name}'\n",
    "engine = create_engine(rds_connection_string)"
   ]
  },
  {
   "cell_type": "code",
   "execution_count": 18,
   "id": "dee2fca6",
   "metadata": {},
   "outputs": [],
   "source": [
    "# reflect an existing database into a new model\n",
    "Base1 = automap_base()\n",
    "# reflect the tables\n",
    "Base1.prepare(engine,reflect=True)"
   ]
  },
  {
   "cell_type": "code",
   "execution_count": 19,
   "id": "254d1d5f",
   "metadata": {},
   "outputs": [
    {
     "data": {
      "text/plain": [
       "['customers', 'calendar', 'products', 'categories', 'territories']"
      ]
     },
     "execution_count": 19,
     "metadata": {},
     "output_type": "execute_result"
    }
   ],
   "source": [
    "# View all of the classes that automap found\n",
    "Base1.classes.keys()"
   ]
  },
  {
   "cell_type": "code",
   "execution_count": 20,
   "id": "ba8cf748",
   "metadata": {},
   "outputs": [
    {
     "data": {
      "text/plain": [
       "['customers',\n",
       " 'combined_sales',\n",
       " 'calendar',\n",
       " 'products',\n",
       " 'categories',\n",
       " 'returns',\n",
       " 'territories']"
      ]
     },
     "execution_count": 20,
     "metadata": {},
     "output_type": "execute_result"
    }
   ],
   "source": [
    "inspector = inspect(engine)\n",
    "inspector.get_table_names()"
   ]
  },
  {
   "cell_type": "code",
   "execution_count": null,
   "id": "1935ad45",
   "metadata": {},
   "outputs": [],
   "source": [
    "# Get a list of column names and types for customers\n",
    "sales_columns = inspector.get_columns('combined_sales')\n",
    "for s in sales_columns:\n",
    "    print(s['name'], s[\"type\"])"
   ]
  },
  {
   "cell_type": "code",
   "execution_count": null,
   "id": "4bd6dffa",
   "metadata": {},
   "outputs": [],
   "source": [
    "# Save references to each table\n",
    "customers = Base.classes.customers\n",
    "sales = Base.classes.combined_sales\n",
    "calendar = Base.classes.calendar\n",
    "products = Base.classes.products\n",
    "categories = Base.classes.categories\n",
    "# returns = Base.classes.returns\n",
    "territories = Base.classes.territories"
   ]
  },
  {
   "cell_type": "code",
   "execution_count": null,
   "id": "2bb80a8b",
   "metadata": {},
   "outputs": [],
   "source": [
    "# Create our session (link) from Python to the DB\n",
    "session = Session(engine)"
   ]
  },
  {
   "cell_type": "code",
   "execution_count": null,
   "id": "b2f11696",
   "metadata": {},
   "outputs": [],
   "source": [
    "# Find the most recent date in the data set.\n",
    "most_recent_date = session.query(func.max(calendar.Date)).first()\n",
    "most_recent_date"
   ]
  },
  {
   "cell_type": "code",
   "execution_count": null,
   "id": "cfa8d6a1",
   "metadata": {},
   "outputs": [],
   "source": [
    "# Design a query to calculate the total number customers in the dataset\n",
    "session.query(func.count(customers.CustomerKey)).all()"
   ]
  },
  {
   "cell_type": "code",
   "execution_count": null,
   "id": "afe80cb9",
   "metadata": {},
   "outputs": [],
   "source": [
    "# Design a query to calculate the total number customers in each Education Level\n",
    "result1 = session.query(customers.EducationLevel, func.count(customers.EducationLevel)).\\\n",
    "    group_by(customers.EducationLevel).order_by(func.count(customers.EducationLevel).desc()).all()"
   ]
  },
  {
   "cell_type": "code",
   "execution_count": null,
   "id": "d5fdee21",
   "metadata": {},
   "outputs": [],
   "source": [
    "df1 = pd.DataFrame(result1)\n",
    "\n",
    "# Save the query results as a Pandas DataFrame and set the index to the Education Level column\n",
    "df1 = pd.DataFrame(result1,columns=['Education Level', 'customers'])\n",
    "\n",
    "# Sort the dataframe by date\n",
    "df1 = df1.sort_values('customers')\n",
    "\n",
    "# Use Pandas Plotting with Matplotlib to plot the data\n",
    "\n",
    "df1.plot.bar(x='Education Level', y='customers', rot=90)\n",
    "plt.xlabel(\"Education Level\")\n",
    "plt.ylabel(\"customers\")\n",
    "\n",
    "# Add title\n",
    "plt.title(\"Cusomers in each Education Level\", fontsize=15)\n",
    "\n",
    "# Save to folder\n",
    "plt.savefig(\"Resources/Education Level.png\")"
   ]
  },
  {
   "cell_type": "code",
   "execution_count": null,
   "id": "7dd2c4e3",
   "metadata": {},
   "outputs": [],
   "source": [
    "# Design a query to calculate the total number customers in each Annual Income bracket\n",
    "result2 = session.query(customers.AnnualIncome, func.count(customers.AnnualIncome)).\\\n",
    "    group_by(customers.AnnualIncome).order_by(func.count(customers.AnnualIncome).desc()).all()"
   ]
  },
  {
   "cell_type": "code",
   "execution_count": null,
   "id": "c3c81cae",
   "metadata": {},
   "outputs": [],
   "source": [
    "df2 = pd.DataFrame(result2)\n",
    "\n",
    "# Save the query results as a Pandas DataFrame and set the index to the Education Level column\n",
    "df2 = pd.DataFrame(result2,columns=['Income Level', 'customers'])\n",
    "\n",
    "# Use Pandas Plotting with Matplotlib to plot the data\n",
    "\n",
    "df2.plot.bar(x='Income Level', y='customers', rot=90)\n",
    "plt.xlabel(\"Income Level\")\n",
    "plt.ylabel(\"customers\")\n",
    "\n",
    "# Add title\n",
    "plt.title(\"Cusomers in each Income Level\", fontsize=15)\n",
    "\n",
    "# Save to folder\n",
    "plt.savefig(\"Resources/Income Level.png\")"
   ]
  },
  {
   "cell_type": "code",
   "execution_count": null,
   "id": "6b4ec26c",
   "metadata": {},
   "outputs": [],
   "source": [
    "# Get a list of column names and types for products\n",
    "product_columns = inspector.get_columns('products')\n",
    "for p in product_columns:\n",
    "    print(p['name'], p[\"type\"])"
   ]
  },
  {
   "cell_type": "code",
   "execution_count": null,
   "id": "fd451f9e",
   "metadata": {},
   "outputs": [],
   "source": [
    "# Design a query to calculate the total number of products in each product sub category\n",
    "result3 = session.query(products.ProductSubcategoryKey, func.count(products.ProductSubcategoryKey)).\\\n",
    "    group_by(products.ProductSubcategoryKey).order_by(products.ProductSubcategoryKey).all()"
   ]
  },
  {
   "cell_type": "code",
   "execution_count": null,
   "id": "2dd282b3",
   "metadata": {},
   "outputs": [],
   "source": [
    "df3 = pd.DataFrame(result3)\n",
    "\n",
    "# Save the query results as a Pandas DataFrame and set the index to the Education Level column\n",
    "df3 = pd.DataFrame(result3,columns=['category', 'number of products'])\n",
    "\n",
    "# Use Pandas Plotting with Matplotlib to plot the data\n",
    "\n",
    "df3.plot.bar(x='category', y='number of products',rot=0,fontsize=7 )\n",
    "plt.xlabel(\"category\")\n",
    "# plt.ylabel(\"number of products\")\n",
    "\n",
    "# Add title\n",
    "plt.title(\"products in each category\", fontsize=20)\n",
    "\n",
    "# Save to folder\n",
    "plt.savefig(\"Resources/Categories.png\")"
   ]
  },
  {
   "cell_type": "code",
   "execution_count": null,
   "id": "edb3d715",
   "metadata": {},
   "outputs": [],
   "source": [
    "# Close Session\n",
    "session.close()"
   ]
  },
  {
   "cell_type": "code",
   "execution_count": null,
   "id": "53897aa3",
   "metadata": {},
   "outputs": [],
   "source": [
    "from selenium import webdriver\n",
    "from selenium.webdriver.chrome.options import Options\n",
    "\n",
    "options = Options()\n",
    "options.add_argument(\"start-maximized\")\n",
    "driver = webdriver.Chrome(chrome_options=options, executable_path=r'C:\\Users\\gcwhi\\Downloads\\chromedriver_win32\\chromedriver.exe')\n",
    "driver.get('https://www.google.co.in')\n",
    "print(\"Page Title is : %s\" %driver.title)\n"
   ]
  },
  {
   "cell_type": "code",
   "execution_count": null,
   "id": "02a97f20",
   "metadata": {},
   "outputs": [],
   "source": [
    "# # Set up Splinter\n",
    "executable_path = {'executable_path': ChromeDriverManager().install()}\n",
    "browser = Browser('chrome', **executable_path, headless=False)"
   ]
  },
  {
   "cell_type": "code",
   "execution_count": null,
   "id": "fe153170",
   "metadata": {},
   "outputs": [],
   "source": [
    "# Visit the Adventure bikes site\n",
    "url = 'http://demos.componentone.com/ASPNET/AdventureWorksMVC/Products/Index?Category=Bikes'\n",
    "browser.visit(url)\n",
    "\n",
    "# Optional delay for loading the page\n",
    "browser.is_element_present_by_css('div.list_text', wait_time=1)"
   ]
  },
  {
   "cell_type": "code",
   "execution_count": null,
   "id": "70e6778e",
   "metadata": {},
   "outputs": [],
   "source": [
    "# Convert the browser html to a soup object\n",
    "html = browser.html\n",
    "bikes_soup = soup(html, 'html.parser')"
   ]
  },
  {
   "cell_type": "code",
   "execution_count": null,
   "id": "35af9fbf",
   "metadata": {},
   "outputs": [],
   "source": [
    "bikes_soup"
   ]
  },
  {
   "cell_type": "code",
   "execution_count": null,
   "id": "35e7fe20",
   "metadata": {},
   "outputs": [],
   "source": []
  },
  {
   "cell_type": "code",
   "execution_count": null,
   "id": "59d78415",
   "metadata": {},
   "outputs": [],
   "source": []
  },
  {
   "cell_type": "code",
   "execution_count": null,
   "id": "26d56dfc",
   "metadata": {},
   "outputs": [],
   "source": []
  }
 ],
 "metadata": {
  "kernelspec": {
   "display_name": "PythonData",
   "language": "python",
   "name": "pythondata"
  },
  "language_info": {
   "codemirror_mode": {
    "name": "ipython",
    "version": 3
   },
   "file_extension": ".py",
   "mimetype": "text/x-python",
   "name": "python",
   "nbconvert_exporter": "python",
   "pygments_lexer": "ipython3",
   "version": "3.9.7"
  }
 },
 "nbformat": 4,
 "nbformat_minor": 5
}
