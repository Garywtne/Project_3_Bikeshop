{
 "cells": [
  {
   "cell_type": "code",
   "execution_count": 1,
   "id": "da33ed7b",
   "metadata": {},
   "outputs": [],
   "source": [
    "import pandas as pd\n",
    "from sqlalchemy import create_engine\n",
    "import matplotlib.pyplot as plt\n",
    "from config import postgresPass as pw"
   ]
  },
  {
   "cell_type": "code",
   "execution_count": 2,
   "id": "2b5f4ee2",
   "metadata": {},
   "outputs": [],
   "source": [
    "# add csv files"
   ]
  },
  {
   "cell_type": "code",
   "execution_count": 3,
   "id": "4e50c23c",
   "metadata": {},
   "outputs": [],
   "source": [
    "csv_file0 = \"data/AdventureWorks_Customers.csv\"\n",
    "Customers_df = pd.read_csv(csv_file0, encoding=\"ISO-8859_1\")"
   ]
  },
  {
   "cell_type": "code",
   "execution_count": 4,
   "id": "58f72785",
   "metadata": {},
   "outputs": [],
   "source": [
    "Customers_df['BirthDate'] = pd.to_datetime(Customers_df['BirthDate'])"
   ]
  },
  {
   "cell_type": "code",
   "execution_count": 5,
   "id": "c936b4f8",
   "metadata": {},
   "outputs": [],
   "source": [
    "Customers_df[\"BirthDate\"] = pd.to_datetime(Customers_df[\"BirthDate\"]).dt.strftime('%Y-%m-%d')"
   ]
  },
  {
   "cell_type": "code",
   "execution_count": 6,
   "id": "39dc45a8",
   "metadata": {},
   "outputs": [
    {
     "name": "stderr",
     "output_type": "stream",
     "text": [
      "C:\\Users\\gcwhi\\AppData\\Local\\Temp/ipykernel_21780/1830080430.py:1: FutureWarning: The default value of regex will change from True to False in a future version. In addition, single character regular expressions will *not* be treated as literal strings when regex=True.\n",
      "  Customers_df['AnnualIncome']=Customers_df['AnnualIncome'].str.replace('$' ,'')\n"
     ]
    }
   ],
   "source": [
    "Customers_df['AnnualIncome']=Customers_df['AnnualIncome'].str.replace('$' ,'')"
   ]
  },
  {
   "cell_type": "code",
   "execution_count": 7,
   "id": "d290536c",
   "metadata": {},
   "outputs": [],
   "source": [
    "Customers_df['AnnualIncome']=Customers_df['AnnualIncome'].str.replace(',' ,'')"
   ]
  },
  {
   "cell_type": "code",
   "execution_count": 8,
   "id": "176eef50",
   "metadata": {},
   "outputs": [],
   "source": [
    "Customers_df['AnnualIncome'] = pd.to_numeric(Customers_df['AnnualIncome'])"
   ]
  },
  {
   "cell_type": "code",
   "execution_count": 9,
   "id": "bf50d877",
   "metadata": {},
   "outputs": [
    {
     "data": {
      "text/html": [
       "<div>\n",
       "<style scoped>\n",
       "    .dataframe tbody tr th:only-of-type {\n",
       "        vertical-align: middle;\n",
       "    }\n",
       "\n",
       "    .dataframe tbody tr th {\n",
       "        vertical-align: top;\n",
       "    }\n",
       "\n",
       "    .dataframe thead th {\n",
       "        text-align: right;\n",
       "    }\n",
       "</style>\n",
       "<table border=\"1\" class=\"dataframe\">\n",
       "  <thead>\n",
       "    <tr style=\"text-align: right;\">\n",
       "      <th></th>\n",
       "      <th>CustomerKey</th>\n",
       "      <th>AnnualIncome</th>\n",
       "      <th>TotalChildren</th>\n",
       "    </tr>\n",
       "  </thead>\n",
       "  <tbody>\n",
       "    <tr>\n",
       "      <th>count</th>\n",
       "      <td>18148.000000</td>\n",
       "      <td>18148.000000</td>\n",
       "      <td>18148.000000</td>\n",
       "    </tr>\n",
       "    <tr>\n",
       "      <th>mean</th>\n",
       "      <td>20247.470465</td>\n",
       "      <td>57269.120564</td>\n",
       "      <td>1.843619</td>\n",
       "    </tr>\n",
       "    <tr>\n",
       "      <th>std</th>\n",
       "      <td>5336.245656</td>\n",
       "      <td>32236.535573</td>\n",
       "      <td>1.613203</td>\n",
       "    </tr>\n",
       "    <tr>\n",
       "      <th>min</th>\n",
       "      <td>11000.000000</td>\n",
       "      <td>10000.000000</td>\n",
       "      <td>0.000000</td>\n",
       "    </tr>\n",
       "    <tr>\n",
       "      <th>25%</th>\n",
       "      <td>15626.750000</td>\n",
       "      <td>30000.000000</td>\n",
       "      <td>0.000000</td>\n",
       "    </tr>\n",
       "    <tr>\n",
       "      <th>50%</th>\n",
       "      <td>20252.500000</td>\n",
       "      <td>60000.000000</td>\n",
       "      <td>2.000000</td>\n",
       "    </tr>\n",
       "    <tr>\n",
       "      <th>75%</th>\n",
       "      <td>24868.250000</td>\n",
       "      <td>70000.000000</td>\n",
       "      <td>3.000000</td>\n",
       "    </tr>\n",
       "    <tr>\n",
       "      <th>max</th>\n",
       "      <td>29483.000000</td>\n",
       "      <td>170000.000000</td>\n",
       "      <td>5.000000</td>\n",
       "    </tr>\n",
       "  </tbody>\n",
       "</table>\n",
       "</div>"
      ],
      "text/plain": [
       "        CustomerKey   AnnualIncome  TotalChildren\n",
       "count  18148.000000   18148.000000   18148.000000\n",
       "mean   20247.470465   57269.120564       1.843619\n",
       "std     5336.245656   32236.535573       1.613203\n",
       "min    11000.000000   10000.000000       0.000000\n",
       "25%    15626.750000   30000.000000       0.000000\n",
       "50%    20252.500000   60000.000000       2.000000\n",
       "75%    24868.250000   70000.000000       3.000000\n",
       "max    29483.000000  170000.000000       5.000000"
      ]
     },
     "execution_count": 9,
     "metadata": {},
     "output_type": "execute_result"
    }
   ],
   "source": [
    "Customers_df.describe()"
   ]
  },
  {
   "cell_type": "code",
   "execution_count": 10,
   "id": "2567b941",
   "metadata": {},
   "outputs": [],
   "source": [
    "csv_file1 = \"data/AdventureWorks_Calendar.csv\"\n",
    "Calendar_df = pd.read_csv(csv_file1)"
   ]
  },
  {
   "cell_type": "code",
   "execution_count": 11,
   "id": "8e5baddb",
   "metadata": {},
   "outputs": [],
   "source": [
    "Calendar_df[\"Date\"] = pd.to_datetime(Calendar_df[\"Date\"]).dt.strftime('%Y-%m-%d')"
   ]
  },
  {
   "cell_type": "code",
   "execution_count": 12,
   "id": "20964c5c",
   "metadata": {},
   "outputs": [],
   "source": [
    "csv_file2 = \"data/AdventureWorks_Product_Categories.csv\"\n",
    "Product_Categories_df = pd.read_csv(csv_file2)"
   ]
  },
  {
   "cell_type": "code",
   "execution_count": 13,
   "id": "82c5c496",
   "metadata": {},
   "outputs": [],
   "source": [
    "csv_file3 = \"data/AdventureWorks_Product_Subcategories.csv\"\n",
    "Product_Subcategories_df = pd.read_csv(csv_file3)"
   ]
  },
  {
   "cell_type": "code",
   "execution_count": 14,
   "id": "fce639d2",
   "metadata": {},
   "outputs": [],
   "source": [
    "csv_file3 = \"data/AdventureWorks_Products.csv\"\n",
    "Products_df = pd.read_csv(csv_file3)"
   ]
  },
  {
   "cell_type": "code",
   "execution_count": 15,
   "id": "37f2c30c",
   "metadata": {},
   "outputs": [],
   "source": [
    "csv_file4 = \"data/AdventureWorks_Returns.csv\"\n",
    "Returns_df = pd.read_csv(csv_file4)"
   ]
  },
  {
   "cell_type": "code",
   "execution_count": 16,
   "id": "1dfb8f1d",
   "metadata": {},
   "outputs": [],
   "source": [
    "Returns_df[\"ReturnDate\"] = pd.to_datetime(Returns_df[\"ReturnDate\"]).dt.strftime('%Y-%m-%d')"
   ]
  },
  {
   "cell_type": "code",
   "execution_count": 17,
   "id": "cc7680ea",
   "metadata": {},
   "outputs": [],
   "source": [
    "csv_file5 = \"data/AdventureWorks_Sales_2015.csv\"\n",
    "Sales_2015_df = pd.read_csv(csv_file5)"
   ]
  },
  {
   "cell_type": "code",
   "execution_count": 18,
   "id": "6153ff08",
   "metadata": {},
   "outputs": [],
   "source": [
    "Sales_2015_df[\"OrderDate\"] = pd.to_datetime(Sales_2015_df[\"OrderDate\"]).dt.strftime('%Y-%m-%d')"
   ]
  },
  {
   "cell_type": "code",
   "execution_count": 19,
   "id": "8c01da12",
   "metadata": {},
   "outputs": [],
   "source": [
    "Sales_2015_df[\"StockDate\"] = pd.to_datetime(Sales_2015_df[\"StockDate\"]).dt.strftime('%Y-%m-%d')"
   ]
  },
  {
   "cell_type": "code",
   "execution_count": 20,
   "id": "1f8ffb73",
   "metadata": {},
   "outputs": [],
   "source": [
    "csv_file6 = \"data/AdventureWorks_Sales_2016.csv\"\n",
    "Sales_2016_df = pd.read_csv(csv_file6)"
   ]
  },
  {
   "cell_type": "code",
   "execution_count": 21,
   "id": "6dd8693b",
   "metadata": {},
   "outputs": [],
   "source": [
    "Sales_2016_df[\"OrderDate\"] = pd.to_datetime(Sales_2016_df[\"OrderDate\"]).dt.strftime('%Y-%m-%d')"
   ]
  },
  {
   "cell_type": "code",
   "execution_count": 22,
   "id": "6ba72d06",
   "metadata": {},
   "outputs": [],
   "source": [
    "Sales_2016_df[\"StockDate\"] = pd.to_datetime(Sales_2016_df[\"StockDate\"]).dt.strftime('%Y-%m-%d')"
   ]
  },
  {
   "cell_type": "code",
   "execution_count": 23,
   "id": "373c041c",
   "metadata": {},
   "outputs": [],
   "source": [
    "csv_file7 = \"data/AdventureWorks_Sales_2017.csv\"\n",
    "Sales_2017_df = pd.read_csv(csv_file7)"
   ]
  },
  {
   "cell_type": "code",
   "execution_count": 24,
   "id": "38e37107",
   "metadata": {},
   "outputs": [],
   "source": [
    "Sales_2017_df[\"OrderDate\"] = pd.to_datetime(Sales_2017_df[\"OrderDate\"]).dt.strftime('%Y-%m-%d')"
   ]
  },
  {
   "cell_type": "code",
   "execution_count": 25,
   "id": "9f200444",
   "metadata": {},
   "outputs": [],
   "source": [
    "Sales_2017_df[\"StockDate\"] = pd.to_datetime(Sales_2017_df[\"StockDate\"]).dt.strftime('%Y-%m-%d')"
   ]
  },
  {
   "cell_type": "code",
   "execution_count": 26,
   "id": "f6694521",
   "metadata": {},
   "outputs": [],
   "source": [
    "csv_file8 = \"data/AdventureWorks_Territories.csv\"\n",
    "Territories_df = pd.read_csv(csv_file8)"
   ]
  },
  {
   "cell_type": "code",
   "execution_count": 27,
   "id": "df1a0d8c",
   "metadata": {},
   "outputs": [],
   "source": [
    "# create full sales dataframe"
   ]
  },
  {
   "cell_type": "code",
   "execution_count": 28,
   "id": "060a557a",
   "metadata": {},
   "outputs": [],
   "source": [
    "sales = [Sales_2015_df, Sales_2016_df, Sales_2017_df]"
   ]
  },
  {
   "cell_type": "code",
   "execution_count": 29,
   "id": "be527c26",
   "metadata": {},
   "outputs": [],
   "source": [
    "all_sales = pd.concat(sales)"
   ]
  },
  {
   "cell_type": "code",
   "execution_count": 30,
   "id": "17adb3c3",
   "metadata": {},
   "outputs": [],
   "source": [
    "all_sales.rename(columns={'TerritoryKey': 'SalesTerritoryKey'},inplace=True)"
   ]
  },
  {
   "cell_type": "code",
   "execution_count": 31,
   "id": "8ff33717",
   "metadata": {},
   "outputs": [],
   "source": [
    "all_sales_reset = all_sales.reset_index(drop=True)"
   ]
  },
  {
   "cell_type": "code",
   "execution_count": 32,
   "id": "99b0aae4",
   "metadata": {},
   "outputs": [],
   "source": [
    "# territory_sales = pd.merge(Territories_df,all_sales_reset, how=\"right\",on='SalesTerritoryKey')"
   ]
  },
  {
   "cell_type": "code",
   "execution_count": 33,
   "id": "286dd2ef",
   "metadata": {},
   "outputs": [],
   "source": [
    "# product_sales = pd.merge(Products_df,territory_sales, how=\"right\",on='ProductKey')"
   ]
  },
  {
   "cell_type": "code",
   "execution_count": 34,
   "id": "22305318",
   "metadata": {},
   "outputs": [],
   "source": [
    "categories = pd.merge(Product_Subcategories_df,Product_Categories_df, how=\"left\",on='ProductCategoryKey')"
   ]
  },
  {
   "cell_type": "code",
   "execution_count": 35,
   "id": "03b41a20",
   "metadata": {},
   "outputs": [],
   "source": [
    "# all_products_sales_data = pd.merge(categories,product_sales, how=\"right\",on='ProductSubcategoryKey')"
   ]
  },
  {
   "cell_type": "code",
   "execution_count": 36,
   "id": "6a62aaa6",
   "metadata": {},
   "outputs": [
    {
     "data": {
      "text/html": [
       "<div>\n",
       "<style scoped>\n",
       "    .dataframe tbody tr th:only-of-type {\n",
       "        vertical-align: middle;\n",
       "    }\n",
       "\n",
       "    .dataframe tbody tr th {\n",
       "        vertical-align: top;\n",
       "    }\n",
       "\n",
       "    .dataframe thead th {\n",
       "        text-align: right;\n",
       "    }\n",
       "</style>\n",
       "<table border=\"1\" class=\"dataframe\">\n",
       "  <thead>\n",
       "    <tr style=\"text-align: right;\">\n",
       "      <th></th>\n",
       "      <th>ProductKey</th>\n",
       "      <th>CustomerKey</th>\n",
       "      <th>SalesTerritoryKey</th>\n",
       "      <th>OrderLineItem</th>\n",
       "      <th>OrderQuantity</th>\n",
       "    </tr>\n",
       "  </thead>\n",
       "  <tbody>\n",
       "    <tr>\n",
       "      <th>count</th>\n",
       "      <td>56046.000000</td>\n",
       "      <td>56046.000000</td>\n",
       "      <td>56046.000000</td>\n",
       "      <td>56046.000000</td>\n",
       "      <td>56046.000000</td>\n",
       "    </tr>\n",
       "    <tr>\n",
       "      <th>mean</th>\n",
       "      <td>438.962103</td>\n",
       "      <td>18843.645559</td>\n",
       "      <td>6.254666</td>\n",
       "      <td>1.903151</td>\n",
       "      <td>1.501873</td>\n",
       "    </tr>\n",
       "    <tr>\n",
       "      <th>std</th>\n",
       "      <td>118.612352</td>\n",
       "      <td>5412.449843</td>\n",
       "      <td>2.958005</td>\n",
       "      <td>1.021006</td>\n",
       "      <td>0.612379</td>\n",
       "    </tr>\n",
       "    <tr>\n",
       "      <th>min</th>\n",
       "      <td>214.000000</td>\n",
       "      <td>11000.000000</td>\n",
       "      <td>1.000000</td>\n",
       "      <td>1.000000</td>\n",
       "      <td>1.000000</td>\n",
       "    </tr>\n",
       "    <tr>\n",
       "      <th>25%</th>\n",
       "      <td>360.000000</td>\n",
       "      <td>14016.000000</td>\n",
       "      <td>4.000000</td>\n",
       "      <td>1.000000</td>\n",
       "      <td>1.000000</td>\n",
       "    </tr>\n",
       "    <tr>\n",
       "      <th>50%</th>\n",
       "      <td>479.000000</td>\n",
       "      <td>18157.000000</td>\n",
       "      <td>7.000000</td>\n",
       "      <td>2.000000</td>\n",
       "      <td>1.000000</td>\n",
       "    </tr>\n",
       "    <tr>\n",
       "      <th>75%</th>\n",
       "      <td>529.000000</td>\n",
       "      <td>23425.750000</td>\n",
       "      <td>9.000000</td>\n",
       "      <td>2.000000</td>\n",
       "      <td>2.000000</td>\n",
       "    </tr>\n",
       "    <tr>\n",
       "      <th>max</th>\n",
       "      <td>606.000000</td>\n",
       "      <td>29483.000000</td>\n",
       "      <td>10.000000</td>\n",
       "      <td>8.000000</td>\n",
       "      <td>3.000000</td>\n",
       "    </tr>\n",
       "  </tbody>\n",
       "</table>\n",
       "</div>"
      ],
      "text/plain": [
       "         ProductKey   CustomerKey  SalesTerritoryKey  OrderLineItem  \\\n",
       "count  56046.000000  56046.000000       56046.000000   56046.000000   \n",
       "mean     438.962103  18843.645559           6.254666       1.903151   \n",
       "std      118.612352   5412.449843           2.958005       1.021006   \n",
       "min      214.000000  11000.000000           1.000000       1.000000   \n",
       "25%      360.000000  14016.000000           4.000000       1.000000   \n",
       "50%      479.000000  18157.000000           7.000000       2.000000   \n",
       "75%      529.000000  23425.750000           9.000000       2.000000   \n",
       "max      606.000000  29483.000000          10.000000       8.000000   \n",
       "\n",
       "       OrderQuantity  \n",
       "count   56046.000000  \n",
       "mean        1.501873  \n",
       "std         0.612379  \n",
       "min         1.000000  \n",
       "25%         1.000000  \n",
       "50%         1.000000  \n",
       "75%         2.000000  \n",
       "max         3.000000  "
      ]
     },
     "execution_count": 36,
     "metadata": {},
     "output_type": "execute_result"
    }
   ],
   "source": [
    "all_sales_reset.describe()"
   ]
  },
  {
   "cell_type": "code",
   "execution_count": 37,
   "id": "e9414272",
   "metadata": {},
   "outputs": [],
   "source": [
    "all_sales_reset.to_csv('Resources/combined_sales.csv', index = False)"
   ]
  },
  {
   "cell_type": "code",
   "execution_count": 38,
   "id": "e9dbe3d2",
   "metadata": {},
   "outputs": [],
   "source": [
    "Customers_df.to_csv('Resources/customers.csv',index = False)"
   ]
  },
  {
   "cell_type": "code",
   "execution_count": 39,
   "id": "baea973d",
   "metadata": {},
   "outputs": [],
   "source": [
    "Calendar_df.to_csv('Resources/calendar.csv',index = False)"
   ]
  },
  {
   "cell_type": "code",
   "execution_count": 40,
   "id": "6b7e6769",
   "metadata": {},
   "outputs": [],
   "source": [
    "Returns_df.to_csv('Resources/returns.csv',index = False)"
   ]
  },
  {
   "cell_type": "code",
   "execution_count": 41,
   "id": "c15de101",
   "metadata": {},
   "outputs": [],
   "source": [
    "Products_df.to_csv('Resources/products.csv',index = False)"
   ]
  },
  {
   "cell_type": "code",
   "execution_count": 42,
   "id": "8536c449",
   "metadata": {},
   "outputs": [],
   "source": [
    "Territories_df.to_csv('Resources/territories.csv',index = False)"
   ]
  },
  {
   "cell_type": "code",
   "execution_count": 43,
   "id": "82c707ca",
   "metadata": {},
   "outputs": [],
   "source": [
    "categories.to_csv('Resources/categories.csv',index = False)"
   ]
  },
  {
   "cell_type": "code",
   "execution_count": 44,
   "id": "48c568c8",
   "metadata": {},
   "outputs": [],
   "source": [
    "protocol = 'postgresql'\n",
    "username = 'postgres'\n",
    "password = pw\n",
    "host = 'localhost'\n",
    "port = 5432\n",
    "database_name = 'bike_shop_new'\n",
    "rds_connection_string = f'{protocol}://{username}:{password}@{host}:{port}/{database_name}'\n",
    "engine = create_engine(rds_connection_string)"
   ]
  },
  {
   "cell_type": "code",
   "execution_count": 45,
   "id": "dee2fca6",
   "metadata": {},
   "outputs": [
    {
     "name": "stderr",
     "output_type": "stream",
     "text": [
      "C:\\Users\\gcwhi\\AppData\\Local\\Temp/ipykernel_21780/4162273999.py:1: SADeprecationWarning: The Engine.table_names() method is deprecated and will be removed in a future release.  Please refer to Inspector.get_table_names(). (deprecated since: 1.4)\n",
      "  engine.table_names()\n"
     ]
    },
    {
     "data": {
      "text/plain": [
       "[]"
      ]
     },
     "execution_count": 45,
     "metadata": {},
     "output_type": "execute_result"
    }
   ],
   "source": [
    "engine.table_names()"
   ]
  },
  {
   "cell_type": "code",
   "execution_count": 46,
   "id": "b6af0d50",
   "metadata": {},
   "outputs": [],
   "source": [
    "categories.to_sql(name='categories', con=engine, if_exists='append', index=False)"
   ]
  },
  {
   "cell_type": "code",
   "execution_count": 47,
   "id": "bf1572d0",
   "metadata": {},
   "outputs": [],
   "source": [
    "Products_df.to_sql(name='products', con=engine, if_exists='append', index=False)"
   ]
  },
  {
   "cell_type": "code",
   "execution_count": 48,
   "id": "1a9f4906",
   "metadata": {},
   "outputs": [],
   "source": [
    "Territories_df.to_sql(name='territories', con=engine, if_exists='append', index=False)"
   ]
  },
  {
   "cell_type": "code",
   "execution_count": 49,
   "id": "16f5d385",
   "metadata": {},
   "outputs": [],
   "source": [
    "Calendar_df.to_sql(name='calendar', con=engine, if_exists='append', index=False)"
   ]
  },
  {
   "cell_type": "code",
   "execution_count": 50,
   "id": "7ea60c9b",
   "metadata": {},
   "outputs": [],
   "source": [
    "Customers_df.to_sql(name='customers', con=engine, if_exists='append', index=False)"
   ]
  },
  {
   "cell_type": "code",
   "execution_count": 51,
   "id": "66c8664b",
   "metadata": {},
   "outputs": [],
   "source": [
    "all_sales_reset.to_sql(name='combined_sales', con=engine, if_exists='append', index=False)"
   ]
  },
  {
   "cell_type": "code",
   "execution_count": 52,
   "id": "1afcbdf5",
   "metadata": {},
   "outputs": [],
   "source": [
    "Returns_df.to_sql(name='returns', con=engine, if_exists='append', index=False)"
   ]
  },
  {
   "cell_type": "code",
   "execution_count": 53,
   "id": "2f23669c",
   "metadata": {},
   "outputs": [
    {
     "name": "stderr",
     "output_type": "stream",
     "text": [
      "C:\\Users\\gcwhi\\AppData\\Local\\Temp/ipykernel_21780/4162273999.py:1: SADeprecationWarning: The Engine.table_names() method is deprecated and will be removed in a future release.  Please refer to Inspector.get_table_names(). (deprecated since: 1.4)\n",
      "  engine.table_names()\n"
     ]
    },
    {
     "data": {
      "text/plain": [
       "['categories',\n",
       " 'products',\n",
       " 'territories',\n",
       " 'calendar',\n",
       " 'customers',\n",
       " 'combined_sales',\n",
       " 'returns']"
      ]
     },
     "execution_count": 53,
     "metadata": {},
     "output_type": "execute_result"
    }
   ],
   "source": [
    "engine.table_names()"
   ]
  },
  {
   "cell_type": "code",
   "execution_count": null,
   "id": "254d1d5f",
   "metadata": {},
   "outputs": [],
   "source": []
  },
  {
   "cell_type": "code",
   "execution_count": null,
   "id": "ba8cf748",
   "metadata": {},
   "outputs": [],
   "source": []
  },
  {
   "cell_type": "code",
   "execution_count": null,
   "id": "4bd6dffa",
   "metadata": {},
   "outputs": [],
   "source": []
  },
  {
   "cell_type": "code",
   "execution_count": null,
   "id": "b2f11696",
   "metadata": {},
   "outputs": [],
   "source": []
  },
  {
   "cell_type": "code",
   "execution_count": null,
   "id": "cfa8d6a1",
   "metadata": {},
   "outputs": [],
   "source": []
  }
 ],
 "metadata": {
  "kernelspec": {
   "display_name": "PythonData",
   "language": "python",
   "name": "pythondata"
  },
  "language_info": {
   "codemirror_mode": {
    "name": "ipython",
    "version": 3
   },
   "file_extension": ".py",
   "mimetype": "text/x-python",
   "name": "python",
   "nbconvert_exporter": "python",
   "pygments_lexer": "ipython3",
   "version": "3.9.7"
  }
 },
 "nbformat": 4,
 "nbformat_minor": 5
}
