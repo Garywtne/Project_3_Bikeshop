{
 "cells": [
  {
   "cell_type": "code",
   "execution_count": null,
   "id": "da33ed7b",
   "metadata": {},
   "outputs": [],
   "source": [
    "import pandas as pd\n",
    "from sqlalchemy import create_engine\n",
    "import matplotlib.pyplot as plt\n",
    "from config import postgresPass as pw"
   ]
  },
  {
   "cell_type": "code",
   "execution_count": null,
   "id": "3c25c9af",
   "metadata": {},
   "outputs": [],
   "source": [
    "%matplotlib inline\n",
    "from matplotlib import style\n",
    "style.use('fivethirtyeight')"
   ]
  },
  {
   "cell_type": "code",
   "execution_count": null,
   "id": "5407ad9c",
   "metadata": {},
   "outputs": [],
   "source": [
    "import numpy as np\n",
    "import datetime as dt"
   ]
  },
  {
   "cell_type": "code",
   "execution_count": null,
   "id": "f34bff6d",
   "metadata": {},
   "outputs": [],
   "source": [
    "# Python SQL toolkit and Object Relational Mapper\n",
    "import sqlalchemy\n",
    "from sqlalchemy.ext.automap import automap_base\n",
    "from sqlalchemy.orm import Session\n",
    "from sqlalchemy import func, inspect"
   ]
  },
  {
   "cell_type": "code",
   "execution_count": null,
   "id": "48c568c8",
   "metadata": {},
   "outputs": [],
   "source": [
    "protocol = 'postgresql'\n",
    "username = 'postgres'\n",
    "password = pw\n",
    "host = 'localhost'\n",
    "port = 5432\n",
    "database_name = 'bike_shop_pr3'\n",
    "rds_connection_string = f'{protocol}://{username}:{password}@{host}:{port}/{database_name}'\n",
    "engine = create_engine(rds_connection_string)"
   ]
  },
  {
   "cell_type": "code",
   "execution_count": null,
   "id": "dee2fca6",
   "metadata": {},
   "outputs": [],
   "source": [
    "# reflect an existing database into a new model\n",
    "Base = automap_base()\n",
    "# reflect the tables\n",
    "Base.prepare(engine,reflect=True)"
   ]
  },
  {
   "cell_type": "code",
   "execution_count": null,
   "id": "254d1d5f",
   "metadata": {},
   "outputs": [],
   "source": [
    "# View all of the classes that automap found\n",
    "Base.classes.keys()"
   ]
  },
  {
   "cell_type": "code",
   "execution_count": null,
   "id": "ba8cf748",
   "metadata": {},
   "outputs": [],
   "source": [
    "inspector = inspect(engine)\n",
    "inspector.get_table_names()"
   ]
  },
  {
   "cell_type": "code",
   "execution_count": null,
   "id": "1935ad45",
   "metadata": {},
   "outputs": [],
   "source": [
    "# Get a list of column names and types for customers\n",
    "customers_columns = inspector.get_columns('customers')\n",
    "for c in customers_columns:\n",
    "    print(c['name'], c[\"type\"])"
   ]
  },
  {
   "cell_type": "code",
   "execution_count": null,
   "id": "4bd6dffa",
   "metadata": {},
   "outputs": [],
   "source": [
    "# Save references to each table\n",
    "customers = Base.classes.customers\n",
    "sales = Base.classes.combined_sales\n",
    "calendar = Base.classes.calendar\n",
    "products = Base.classes.products\n",
    "categories = Base.classes.categories\n",
    "returns = Base.classes.returns\n",
    "territories = Base.classes.territories"
   ]
  },
  {
   "cell_type": "code",
   "execution_count": null,
   "id": "2bb80a8b",
   "metadata": {},
   "outputs": [],
   "source": [
    "# Create our session (link) from Python to the DB\n",
    "session = Session(engine)"
   ]
  },
  {
   "cell_type": "code",
   "execution_count": null,
   "id": "b2f11696",
   "metadata": {},
   "outputs": [],
   "source": [
    "# Find the most recent date in the data set.\n",
    "most_recent_date = session.query(func.min(sales.OrderDate)).first()\n",
    "most_recent_date"
   ]
  },
  {
   "cell_type": "code",
   "execution_count": null,
   "id": "cfa8d6a1",
   "metadata": {},
   "outputs": [],
   "source": [
    "# Design a query to calculate the total number customers in the dataset\n",
    "session.query(func.count(customers.CustomerKey)).all()"
   ]
  },
  {
   "cell_type": "code",
   "execution_count": null,
   "id": "afe80cb9",
   "metadata": {},
   "outputs": [],
   "source": [
    "# Design a query to calculate the total number customers in each Education Level\n",
    "result1 = session.query(customers.EducationLevel, func.count(customers.EducationLevel)).\\\n",
    "    group_by(customers.EducationLevel).order_by(func.count(customers.EducationLevel).desc()).all()"
   ]
  },
  {
   "cell_type": "code",
   "execution_count": null,
   "id": "d5fdee21",
   "metadata": {},
   "outputs": [],
   "source": [
    "df1 = pd.DataFrame(result1)\n",
    "\n",
    "# Save the query results as a Pandas DataFrame and set the index to the Education Level column\n",
    "df1 = pd.DataFrame(result1,columns=['Education Level', 'customers'])\n",
    "\n",
    "# Sort the dataframe by date\n",
    "df1 = df1.sort_values('customers')\n",
    "\n",
    "# Use Pandas Plotting with Matplotlib to plot the data\n",
    "\n",
    "df1.plot.bar(x='Education Level', y='customers', rot=90)\n",
    "plt.xlabel(\"Education Level\")\n",
    "plt.ylabel(\"customers\")\n",
    "\n",
    "# Add title\n",
    "plt.title(\"Cusomers in each Education Level\", fontsize=15)\n",
    "\n",
    "# Save to folder\n",
    "plt.savefig(\"Resources/Education Level.png\")"
   ]
  },
  {
   "cell_type": "code",
   "execution_count": null,
   "id": "7dd2c4e3",
   "metadata": {},
   "outputs": [],
   "source": [
    "# Design a query to calculate the total number customers in each Annual Income bracket\n",
    "result2 = session.query(customers.AnnualIncome, func.count(customers.AnnualIncome)).\\\n",
    "    group_by(customers.AnnualIncome).order_by(func.count(customers.AnnualIncome).desc()).all()"
   ]
  },
  {
   "cell_type": "code",
   "execution_count": null,
   "id": "c3c81cae",
   "metadata": {},
   "outputs": [],
   "source": [
    "df2 = pd.DataFrame(result2)\n",
    "\n",
    "# Save the query results as a Pandas DataFrame and set the index to the Education Level column\n",
    "df2 = pd.DataFrame(result2,columns=['Income Level', 'customers'])\n",
    "\n",
    "# Use Pandas Plotting with Matplotlib to plot the data\n",
    "\n",
    "df2.plot.bar(x='Income Level', y='customers', rot=90)\n",
    "plt.xlabel(\"Income Level\")\n",
    "plt.ylabel(\"customers\")\n",
    "\n",
    "# Add title\n",
    "plt.title(\"Cusomers in each Income Level\", fontsize=15)\n",
    "\n",
    "# Save to folder\n",
    "plt.savefig(\"Resources/Income Level.png\")"
   ]
  },
  {
   "cell_type": "code",
   "execution_count": null,
   "id": "6b4ec26c",
   "metadata": {},
   "outputs": [],
   "source": [
    "# Get a list of column names and types for products\n",
    "product_columns = inspector.get_columns('products')\n",
    "for p in product_columns:\n",
    "    print(p['name'], p[\"type\"])"
   ]
  },
  {
   "cell_type": "code",
   "execution_count": null,
   "id": "fd451f9e",
   "metadata": {},
   "outputs": [],
   "source": [
    "# Design a query to calculate the total number of products in each product sub category\n",
    "result3 = session.query(products.ProductSubcategoryKey, func.count(products.ProductSubcategoryKey)).\\\n",
    "    group_by(products.ProductSubcategoryKey).order_by(products.ProductSubcategoryKey).all()"
   ]
  },
  {
   "cell_type": "code",
   "execution_count": null,
   "id": "2dd282b3",
   "metadata": {},
   "outputs": [],
   "source": [
    "df3 = pd.DataFrame(result3)\n",
    "\n",
    "# Save the query results as a Pandas DataFrame and set the index to the Education Level column\n",
    "df3 = pd.DataFrame(result3,columns=['category', 'number of products'])\n",
    "\n",
    "# Use Pandas Plotting with Matplotlib to plot the data\n",
    "\n",
    "df3.plot.bar(x='category', y='number of products',rot=0,fontsize=7 )\n",
    "plt.xlabel(\"category\")\n",
    "# plt.ylabel(\"number of products\")\n",
    "\n",
    "# Add title\n",
    "plt.title(\"products in each category\", fontsize=20)\n",
    "\n",
    "# Save to folder\n",
    "plt.savefig(\"Resources/Categories.png\")"
   ]
  },
  {
   "cell_type": "code",
   "execution_count": null,
   "id": "18977fe5",
   "metadata": {},
   "outputs": [],
   "source": [
    "all_sales_df = pd.read_sql_query(\n",
    "    \"\"\"\n",
    "    SELECT\n",
    "    \"ProductKey\",\n",
    "    \"CustomerKey\",\n",
    "    \"SalesTerritoryKey\",\n",
    "    \"OrderQuantity\"\n",
    "    FROM combined_sales\n",
    "    \"\"\",\n",
    "    con=engine)"
   ]
  },
  {
   "cell_type": "code",
   "execution_count": null,
   "id": "7acd6e0a",
   "metadata": {},
   "outputs": [],
   "source": [
    "all_sales_df"
   ]
  },
  {
   "cell_type": "code",
   "execution_count": null,
   "id": "0780ac33",
   "metadata": {},
   "outputs": [],
   "source": [
    "territories_df = pd.read_sql_query(\n",
    "    \"\"\"\n",
    "    SELECT\n",
    "    \"SalesTerritoryKey\",\n",
    "    \"Region\",\n",
    "    \"Continent\"\n",
    "    FROM territories\n",
    "    \"\"\",\n",
    "    con=engine)"
   ]
  },
  {
   "cell_type": "code",
   "execution_count": null,
   "id": "93b61a5e",
   "metadata": {},
   "outputs": [],
   "source": [
    "territories_df"
   ]
  },
  {
   "cell_type": "code",
   "execution_count": null,
   "id": "3e5784d2",
   "metadata": {},
   "outputs": [],
   "source": [
    "all_sales_df1 = pd.merge(all_sales_df,territories_df, how=\"left\",on='SalesTerritoryKey')"
   ]
  },
  {
   "cell_type": "code",
   "execution_count": null,
   "id": "426cf807",
   "metadata": {},
   "outputs": [],
   "source": [
    "all_sales_df1"
   ]
  },
  {
   "cell_type": "code",
   "execution_count": null,
   "id": "f94212b4",
   "metadata": {},
   "outputs": [],
   "source": [
    "products_df = pd.read_sql_query(\n",
    "    \"\"\"\n",
    "    SELECT\n",
    "    \"ProductKey\",\n",
    "    \"ModelName\",\n",
    "    \"ProductSubcategoryKey\"\n",
    "    FROM products\n",
    "    \"\"\",\n",
    "    con=engine)"
   ]
  },
  {
   "cell_type": "code",
   "execution_count": null,
   "id": "40f35997",
   "metadata": {},
   "outputs": [],
   "source": [
    "products_df"
   ]
  },
  {
   "cell_type": "code",
   "execution_count": null,
   "id": "884708a6",
   "metadata": {},
   "outputs": [],
   "source": [
    "all_sales_df2 = pd.merge(all_sales_df1,products_df, how=\"left\",on='ProductKey')"
   ]
  },
  {
   "cell_type": "code",
   "execution_count": null,
   "id": "0bc6c0a4",
   "metadata": {},
   "outputs": [],
   "source": [
    "all_sales_df2"
   ]
  },
  {
   "cell_type": "code",
   "execution_count": null,
   "id": "ca68dc06",
   "metadata": {},
   "outputs": [],
   "source": [
    "categories_df = pd.read_sql_query(\n",
    "    \"\"\"\n",
    "    SELECT\n",
    "    \"ProductSubcategoryKey\",\n",
    "    \"CategoryName\"\n",
    "    FROM categories\n",
    "    \"\"\",\n",
    "    con=engine)"
   ]
  },
  {
   "cell_type": "code",
   "execution_count": null,
   "id": "c43b78e3",
   "metadata": {},
   "outputs": [],
   "source": [
    "categories_df"
   ]
  },
  {
   "cell_type": "code",
   "execution_count": null,
   "id": "2043ea95",
   "metadata": {},
   "outputs": [],
   "source": [
    "all_sales_df3 = pd.merge(all_sales_df2,categories_df, how=\"left\",on='ProductSubcategoryKey')"
   ]
  },
  {
   "cell_type": "code",
   "execution_count": null,
   "id": "5416df5c",
   "metadata": {},
   "outputs": [],
   "source": [
    "all_sales_df3"
   ]
  },
  {
   "cell_type": "code",
   "execution_count": null,
   "id": "9ff60921",
   "metadata": {},
   "outputs": [],
   "source": [
    "customers_df = pd.read_sql_query(\n",
    "    \"\"\"\n",
    "    SELECT\n",
    "    \"CustomerKey\",\n",
    "    \"Gender\",\n",
    "    \"EducationLevel\"\n",
    "    FROM customers\n",
    "    \"\"\",\n",
    "    con=engine)"
   ]
  },
  {
   "cell_type": "code",
   "execution_count": null,
   "id": "45663466",
   "metadata": {},
   "outputs": [],
   "source": [
    "customers_df"
   ]
  },
  {
   "cell_type": "code",
   "execution_count": null,
   "id": "ab525dfb",
   "metadata": {},
   "outputs": [],
   "source": [
    "all_sales_df4 = pd.merge(all_sales_df3,customers_df, how=\"left\",on='CustomerKey')"
   ]
  },
  {
   "cell_type": "code",
   "execution_count": null,
   "id": "db57e89b",
   "metadata": {},
   "outputs": [],
   "source": [
    "all_sales_df4"
   ]
  },
  {
   "cell_type": "code",
   "execution_count": null,
   "id": "38dcc921",
   "metadata": {},
   "outputs": [],
   "source": [
    "all_sales_df4.pop('Continent')"
   ]
  },
  {
   "cell_type": "code",
   "execution_count": null,
   "id": "92811e77",
   "metadata": {},
   "outputs": [],
   "source": [
    "all_sales_df4.pop('SalesTerritoryKey')"
   ]
  },
  {
   "cell_type": "code",
   "execution_count": null,
   "id": "0853cee4",
   "metadata": {},
   "outputs": [],
   "source": [
    "all_sales_df4.pop('ProductSubcategoryKey')"
   ]
  },
  {
   "cell_type": "code",
   "execution_count": null,
   "id": "ae266a1d",
   "metadata": {},
   "outputs": [],
   "source": [
    "all_sales_df4"
   ]
  },
  {
   "cell_type": "code",
   "execution_count": null,
   "id": "408f8fec",
   "metadata": {},
   "outputs": [],
   "source": [
    "# Get all the data for Bikes. \n",
    "just_bikes_df = all_sales_df4.loc[all_sales_df4[\"CategoryName\"] == \"Bikes\"]\n",
    "just_bikes_df"
   ]
  },
  {
   "cell_type": "code",
   "execution_count": null,
   "id": "6e0d9023",
   "metadata": {},
   "outputs": [],
   "source": [
    "just_bikes_df.pop('ProductKey')"
   ]
  },
  {
   "cell_type": "code",
   "execution_count": null,
   "id": "f5922aa9",
   "metadata": {},
   "outputs": [],
   "source": [
    "just_bikes_df.pop('CustomerKey')"
   ]
  },
  {
   "cell_type": "code",
   "execution_count": null,
   "id": "d72b30b7",
   "metadata": {},
   "outputs": [],
   "source": [
    "just_bikes_df"
   ]
  },
  {
   "cell_type": "code",
   "execution_count": null,
   "id": "4e9a90ee",
   "metadata": {},
   "outputs": [],
   "source": [
    "# Generate a pie plot showing the distribution of female versus male bike sales\n",
    "counts = just_bikes_df.Gender.value_counts()\n",
    "counts.plot(kind=\"pie\",autopct='%1.1f%%')\n",
    "plt.show()\n",
    "# Save to folder\n",
    "plt.savefig(\"Resources/bike_sales_gender.png\")"
   ]
  },
  {
   "cell_type": "code",
   "execution_count": null,
   "id": "280497ef",
   "metadata": {},
   "outputs": [],
   "source": [
    "# Get model name data\n",
    "model_data = just_bikes_df[\"ModelName\"].value_counts()\n",
    "model_data"
   ]
  },
  {
   "cell_type": "code",
   "execution_count": null,
   "id": "36b5fb60",
   "metadata": {},
   "outputs": [],
   "source": [
    "# Create plot\n",
    "model_data.plot(kind=\"bar\", facecolor=\"red\", rot=90,figsize=(10,10) )\n",
    "\n",
    "# Set title and axis labels\n",
    "plt.title(\"Bike sales by Model Name\")\n",
    "plt.ylabel(\"Bike sales\")\n",
    "plt.xlabel(\"Model Name\")\n",
    "\n",
    "# Resize plot to display labels\n",
    "plt.tight_layout()\n",
    "plt.savefig(\"Resources/bike_sales_Model.png\")"
   ]
  },
  {
   "cell_type": "code",
   "execution_count": null,
   "id": "38b2fcac",
   "metadata": {},
   "outputs": [],
   "source": [
    "# Get Education Level data\n",
    "Education_data = just_bikes_df[\"EducationLevel\"].value_counts()\n",
    "Education_data"
   ]
  },
  {
   "cell_type": "code",
   "execution_count": null,
   "id": "e0a07c28",
   "metadata": {},
   "outputs": [],
   "source": [
    "# Create plot\n",
    "Education_data.plot(kind=\"bar\", facecolor=\"red\", rot=90,figsize=(10,10) )\n",
    "\n",
    "# Set title and axis labels\n",
    "plt.title(\"Bike sales by Education Level\")\n",
    "plt.ylabel(\"Bike sales\")\n",
    "plt.xlabel(\"Education Level\")\n",
    "\n",
    "# Resize plot to display labels\n",
    "plt.tight_layout()\n",
    "plt.savefig(\"Resources/bike_sales_Education.png\")"
   ]
  },
  {
   "cell_type": "code",
   "execution_count": null,
   "id": "edb3d715",
   "metadata": {},
   "outputs": [],
   "source": [
    "# Close Session\n",
    "session.close()"
   ]
  },
  {
   "cell_type": "code",
   "execution_count": null,
   "id": "02a97f20",
   "metadata": {},
   "outputs": [],
   "source": []
  }
 ],
 "metadata": {
  "kernelspec": {
   "display_name": "PythonData",
   "language": "python",
   "name": "pythondata"
  },
  "language_info": {
   "codemirror_mode": {
    "name": "ipython",
    "version": 3
   },
   "file_extension": ".py",
   "mimetype": "text/x-python",
   "name": "python",
   "nbconvert_exporter": "python",
   "pygments_lexer": "ipython3",
   "version": "3.9.7"
  }
 },
 "nbformat": 4,
 "nbformat_minor": 5
}
