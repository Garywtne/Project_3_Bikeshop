{
 "cells": [
  {
   "cell_type": "code",
   "execution_count": null,
   "id": "da33ed7b",
   "metadata": {},
   "outputs": [],
   "source": [
    "import pandas as pd\n",
    "from sqlalchemy import create_engine\n",
    "import matplotlib.pyplot as plt\n",
    "from config import postgresPass as pw"
   ]
  },
  {
   "cell_type": "code",
   "execution_count": null,
   "id": "2b5f4ee2",
   "metadata": {},
   "outputs": [],
   "source": [
    "# add csv files"
   ]
  },
  {
   "cell_type": "code",
   "execution_count": null,
   "id": "bbf70bba",
   "metadata": {},
   "outputs": [],
   "source": [
    "csv_file0 = \"data/AdventureWorks_Customers.csv\"\n",
    "Customers_df = pd.read_csv(csv_file0, encoding=\"ISO-8859_1\")\n",
    "Customers_df"
   ]
  },
  {
   "cell_type": "code",
   "execution_count": null,
   "id": "2567b941",
   "metadata": {},
   "outputs": [],
   "source": [
    "csv_file1 = \"data/AdventureWorks_Calendar.csv\"\n",
    "Calendar_df = pd.read_csv(csv_file1)\n",
    "Calendar_df"
   ]
  },
  {
   "cell_type": "code",
   "execution_count": null,
   "id": "20964c5c",
   "metadata": {},
   "outputs": [],
   "source": [
    "csv_file2 = \"data/AdventureWorks_Product_Categories.csv\"\n",
    "Product_Categories_df = pd.read_csv(csv_file2)\n",
    "Product_Categories_df"
   ]
  },
  {
   "cell_type": "code",
   "execution_count": null,
   "id": "82c5c496",
   "metadata": {},
   "outputs": [],
   "source": [
    "csv_file3 = \"data/AdventureWorks_Product_Subcategories.csv\"\n",
    "Product_Subcategories_df = pd.read_csv(csv_file3)\n",
    "Product_Subcategories_df"
   ]
  },
  {
   "cell_type": "code",
   "execution_count": null,
   "id": "fce639d2",
   "metadata": {},
   "outputs": [],
   "source": [
    "csv_file3 = \"data/AdventureWorks_Products.csv\"\n",
    "Products_df = pd.read_csv(csv_file3)\n",
    "Products_df"
   ]
  },
  {
   "cell_type": "code",
   "execution_count": null,
   "id": "37f2c30c",
   "metadata": {},
   "outputs": [],
   "source": [
    "csv_file4 = \"data/AdventureWorks_Returns.csv\"\n",
    "Returns_df = pd.read_csv(csv_file4)\n",
    "Returns_df"
   ]
  },
  {
   "cell_type": "code",
   "execution_count": null,
   "id": "cc7680ea",
   "metadata": {},
   "outputs": [],
   "source": [
    "csv_file5 = \"data/AdventureWorks_Sales_2015.csv\"\n",
    "Sales_2015_df = pd.read_csv(csv_file5)\n",
    "Sales_2015_df"
   ]
  },
  {
   "cell_type": "code",
   "execution_count": null,
   "id": "1f8ffb73",
   "metadata": {},
   "outputs": [],
   "source": [
    "csv_file6 = \"data/AdventureWorks_Sales_2016.csv\"\n",
    "Sales_2016_df = pd.read_csv(csv_file6)\n",
    "Sales_2016_df"
   ]
  },
  {
   "cell_type": "code",
   "execution_count": null,
   "id": "373c041c",
   "metadata": {},
   "outputs": [],
   "source": [
    "csv_file7 = \"data/AdventureWorks_Sales_2017.csv\"\n",
    "Sales_2017_df = pd.read_csv(csv_file7)\n",
    "Sales_2017_df"
   ]
  },
  {
   "cell_type": "code",
   "execution_count": null,
   "id": "f6694521",
   "metadata": {},
   "outputs": [],
   "source": [
    "csv_file8 = \"data/AdventureWorks_Territories.csv\"\n",
    "Territories_df = pd.read_csv(csv_file8)\n",
    "Territories_df"
   ]
  },
  {
   "cell_type": "code",
   "execution_count": null,
   "id": "df1a0d8c",
   "metadata": {},
   "outputs": [],
   "source": [
    "# create database"
   ]
  },
  {
   "cell_type": "code",
   "execution_count": null,
   "id": "48c568c8",
   "metadata": {},
   "outputs": [],
   "source": [
    "protocol = 'postgresql'\n",
    "username = 'postgres'\n",
    "password = pw\n",
    "host = 'localhost'\n",
    "port = 5432\n",
    "database_name = 'bike_shop_test'\n",
    "rds_connection_string = f'{protocol}://{username}:{password}@{host}:{port}/{database_name}'\n",
    "engine = create_engine(rds_connection_string)"
   ]
  },
  {
   "cell_type": "code",
   "execution_count": null,
   "id": "dee2fca6",
   "metadata": {},
   "outputs": [],
   "source": [
    "engine.table_names()"
   ]
  },
  {
   "cell_type": "code",
   "execution_count": null,
   "id": "bf1572d0",
   "metadata": {},
   "outputs": [],
   "source": [
    "Products_df.to_sql(name='products', con=engine, if_exists='append', index=False)"
   ]
  },
  {
   "cell_type": "code",
   "execution_count": null,
   "id": "0634b6f6",
   "metadata": {},
   "outputs": [],
   "source": [
    "Product_Categories_df.to_sql(name='p_categories', con=engine, if_exists='append', index=False)"
   ]
  },
  {
   "cell_type": "code",
   "execution_count": null,
   "id": "d671177e",
   "metadata": {},
   "outputs": [],
   "source": [
    "Product_Subcategories_df.to_sql(name='p_subcategories', con=engine, if_exists='append', index=False)"
   ]
  },
  {
   "cell_type": "code",
   "execution_count": null,
   "id": "cb825ef0",
   "metadata": {},
   "outputs": [],
   "source": [
    "Territories_df.to_sql(name='territories', con=engine, if_exists='append', index=False)"
   ]
  },
  {
   "cell_type": "code",
   "execution_count": null,
   "id": "0b038c78",
   "metadata": {},
   "outputs": [],
   "source": [
    "Calendar_df.to_sql(name='calendar', con=engine, if_exists='append', index=False)"
   ]
  },
  {
   "cell_type": "code",
   "execution_count": null,
   "id": "7140cf68",
   "metadata": {},
   "outputs": [],
   "source": [
    "Returns_df.to_sql(name='returns', con=engine, if_exists='append', index=False)"
   ]
  },
  {
   "cell_type": "code",
   "execution_count": null,
   "id": "f7773b5f",
   "metadata": {},
   "outputs": [],
   "source": [
    "Sales_2015_df.to_sql(name='sales_2015', con=engine, if_exists='append', index=False)"
   ]
  },
  {
   "cell_type": "code",
   "execution_count": null,
   "id": "2dc4759b",
   "metadata": {},
   "outputs": [],
   "source": [
    "Sales_2016_df.to_sql(name='sales_2016', con=engine, if_exists='append', index=False)"
   ]
  },
  {
   "cell_type": "code",
   "execution_count": null,
   "id": "bd58061c",
   "metadata": {},
   "outputs": [],
   "source": [
    "Sales_2017_df.to_sql(name='sales_2017', con=engine, if_exists='append', index=False)"
   ]
  },
  {
   "cell_type": "code",
   "execution_count": null,
   "id": "b1536db3",
   "metadata": {},
   "outputs": [],
   "source": [
    "Customers_df.to_sql(name='customers', con=engine, if_exists='append', index=False)"
   ]
  },
  {
   "cell_type": "code",
   "execution_count": null,
   "id": "e09cb8ac",
   "metadata": {},
   "outputs": [],
   "source": [
    "# read website to see if there is any tables"
   ]
  },
  {
   "cell_type": "code",
   "execution_count": null,
   "id": "4bd6dffa",
   "metadata": {},
   "outputs": [],
   "source": []
  },
  {
   "cell_type": "code",
   "execution_count": null,
   "id": "b2f11696",
   "metadata": {},
   "outputs": [],
   "source": []
  },
  {
   "cell_type": "code",
   "execution_count": null,
   "id": "cfa8d6a1",
   "metadata": {},
   "outputs": [],
   "source": []
  }
 ],
 "metadata": {
  "kernelspec": {
   "display_name": "PythonData",
   "language": "python",
   "name": "pythondata"
  },
  "language_info": {
   "codemirror_mode": {
    "name": "ipython",
    "version": 3
   },
   "file_extension": ".py",
   "mimetype": "text/x-python",
   "name": "python",
   "nbconvert_exporter": "python",
   "pygments_lexer": "ipython3",
   "version": "3.9.7"
  }
 },
 "nbformat": 4,
 "nbformat_minor": 5
}
