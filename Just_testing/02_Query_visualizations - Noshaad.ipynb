{
 "cells": [
  {
   "cell_type": "code",
   "execution_count": null,
   "id": "d7b3acc2",
   "metadata": {},
   "outputs": [],
   "source": [
    "import plotly\n",
    "import plotly.express as px\n",
    "import pandas as pd\n",
    "from config import postgresPass as pw\n",
    "from sqlalchemy import create_engine"
   ]
  },
  {
   "cell_type": "code",
   "execution_count": null,
   "id": "116306a6",
   "metadata": {},
   "outputs": [],
   "source": [
    "# Python SQL toolkit and Object Relational Mapper\n",
    "import sqlalchemy\n",
    "from sqlalchemy.ext.automap import automap_base\n",
    "from sqlalchemy.orm import Session\n",
    "from sqlalchemy import func, inspect"
   ]
  },
  {
   "cell_type": "code",
   "execution_count": null,
   "id": "7380c7f7",
   "metadata": {},
   "outputs": [],
   "source": [
    "protocol = 'postgresql'\n",
    "username = 'postgres'\n",
    "password = pw\n",
    "host = 'localhost'\n",
    "port = 5432\n",
    "database_name = 'bike_shop_4'\n",
    "rds_connection_string = f'{protocol}://{username}:{password}@{host}:{port}/{database_name}'\n",
    "engine = create_engine(rds_connection_string)"
   ]
  },
  {
   "cell_type": "code",
   "execution_count": null,
   "id": "6f7b5c78",
   "metadata": {},
   "outputs": [],
   "source": [
    "# reflect an existing database into a new model\n",
    "Base = automap_base()\n",
    "# reflect the tables\n",
    "Base.prepare(engine,reflect=True)"
   ]
  },
  {
   "cell_type": "code",
   "execution_count": null,
   "id": "0091d0c4",
   "metadata": {},
   "outputs": [],
   "source": [
    "# View all of the classes that automap found\n",
    "Base.classes.keys()"
   ]
  },
  {
   "cell_type": "code",
   "execution_count": null,
   "id": "20ce1bf9",
   "metadata": {},
   "outputs": [],
   "source": [
    "inspector = inspect(engine)\n",
    "inspector.get_table_names()"
   ]
  },
  {
   "cell_type": "code",
   "execution_count": null,
   "id": "185487c4",
   "metadata": {},
   "outputs": [],
   "source": [
    "# save list of column name lists and types for tables\n",
    "customers_columns = inspector.get_columns('customers')\n",
    "combined_sales_columns = inspector.get_columns('combined_sales')\n",
    "calendar_columns = inspector.get_columns('calendar')\n",
    "products_columns = inspector.get_columns('products')\n",
    "categories_columns = inspector.get_columns('categories')\n",
    "returns_columns = inspector.get_columns('returns')\n",
    "territories_columns = inspector.get_columns('territories')"
   ]
  },
  {
   "cell_type": "code",
   "execution_count": null,
   "id": "2020e354",
   "metadata": {},
   "outputs": [],
   "source": [
    "for c in calendar_columns:\n",
    "    print(c['name'], c[\"type\"])"
   ]
  },
  {
   "cell_type": "code",
   "execution_count": null,
   "id": "4c2dc386",
   "metadata": {},
   "outputs": [],
   "source": [
    "# Save references to each table\n",
    "customers = Base.classes.customers\n",
    "sales = Base.classes.combined_sales\n",
    "calendar = Base.classes.calendar\n",
    "products = Base.classes.products\n",
    "categories = Base.classes.categories\n",
    "returns = Base.classes.returns\n",
    "territories = Base.classes.territories"
   ]
  },
  {
   "cell_type": "code",
   "execution_count": null,
   "id": "e2103fac",
   "metadata": {},
   "outputs": [],
   "source": [
    "# Create our session (link) from Python to the DB\n",
    "session = Session(engine)"
   ]
  },
  {
   "cell_type": "code",
   "execution_count": null,
   "id": "6118f419",
   "metadata": {},
   "outputs": [],
   "source": [
    "# Design a query to calculate the total number customers in each Education Level\n",
    "result1 = session.query(customers.educationlevel, func.count(customers.educationlevel)).\\\n",
    "    group_by(customers.educationlevel).order_by(func.count(customers.educationlevel).desc()).all()"
   ]
  },
  {
   "cell_type": "code",
   "execution_count": null,
   "id": "b5c3486f",
   "metadata": {},
   "outputs": [],
   "source": [
    "df1 = pd.DataFrame(result1)"
   ]
  },
  {
   "cell_type": "code",
   "execution_count": null,
   "id": "efcd03e7",
   "metadata": {},
   "outputs": [],
   "source": [
    "df1.rename(columns={0: 'Education Level'},inplace=True)"
   ]
  },
  {
   "cell_type": "code",
   "execution_count": null,
   "id": "b27d8c06",
   "metadata": {},
   "outputs": [],
   "source": [
    "df1.rename(columns={1: 'Quantity'},inplace=True)"
   ]
  },
  {
   "cell_type": "code",
   "execution_count": null,
   "id": "c8ecaeab",
   "metadata": {},
   "outputs": [],
   "source": [
    "px.bar(df1, x='Education Level', y='Quantity')"
   ]
  },
  {
   "cell_type": "code",
   "execution_count": null,
   "id": "54832f26",
   "metadata": {},
   "outputs": [],
   "source": [
    "# Design a query to calculate the total number customers in each Annual Income bracket\n",
    "result2 = session.query(customers.annualincome, func.count(customers.annualincome)).\\\n",
    "    group_by(customers.annualincome).order_by(func.count(customers.annualincome).desc()).all()"
   ]
  },
  {
   "cell_type": "code",
   "execution_count": null,
   "id": "5eb49536",
   "metadata": {},
   "outputs": [],
   "source": [
    "df2 = pd.DataFrame(result2)"
   ]
  },
  {
   "cell_type": "code",
   "execution_count": null,
   "id": "4a07f784",
   "metadata": {},
   "outputs": [],
   "source": [
    "df2.rename(columns={1: 'Quantity'},inplace=True)"
   ]
  },
  {
   "cell_type": "code",
   "execution_count": null,
   "id": "14bb5e0d",
   "metadata": {},
   "outputs": [],
   "source": [
    "df2.rename(columns={0: 'Income Level'},inplace=True)"
   ]
  },
  {
   "cell_type": "code",
   "execution_count": null,
   "id": "67de80d7",
   "metadata": {},
   "outputs": [],
   "source": [
    "px.bar(df2, x='Income Level', y='Quantity')"
   ]
  },
  {
   "cell_type": "code",
   "execution_count": null,
   "id": "162de8fd",
   "metadata": {},
   "outputs": [],
   "source": [
    "# Design a query to calculate the total number of products in each product sub category\n",
    "result3 = session.query(products.productsubcategorykey, func.count(products.productsubcategorykey)).\\\n",
    "    group_by(products.productsubcategorykey).order_by(products.productsubcategorykey).all()"
   ]
  },
  {
   "cell_type": "code",
   "execution_count": null,
   "id": "7b76c7d9",
   "metadata": {},
   "outputs": [],
   "source": [
    "df3 = pd.DataFrame(result3)"
   ]
  },
  {
   "cell_type": "code",
   "execution_count": null,
   "id": "c4a02110",
   "metadata": {},
   "outputs": [],
   "source": [
    "df3.rename(columns={1: 'Quantity'},inplace=True)"
   ]
  },
  {
   "cell_type": "code",
   "execution_count": null,
   "id": "f885194d",
   "metadata": {},
   "outputs": [],
   "source": [
    "df3.rename(columns={0: 'Product Subcategory'},inplace=True)"
   ]
  },
  {
   "cell_type": "code",
   "execution_count": null,
   "id": "44942f95",
   "metadata": {},
   "outputs": [],
   "source": [
    "px.bar(df3, x='Product Subcategory', y='Quantity')"
   ]
  },
  {
   "cell_type": "code",
   "execution_count": null,
   "id": "d35816e8",
   "metadata": {},
   "outputs": [],
   "source": [
    "products_join = pd.read_sql_query(\n",
    "    \"\"\"\n",
    "    SELECT\n",
    "    p.productkey,\n",
    "    p.productsubcategorykey,\n",
    "    p.modelname,\n",
    "    cs.productkey,\n",
    "    cs.orderquantity,\n",
    "    cs.customerkey\n",
    "    FROM products AS p\n",
    "    INNER JOIN combined_sales AS cs\n",
    "    ON p.productkey = cs.productkey;\n",
    "  \n",
    "     \n",
    "    \"\"\",\n",
    "    con=engine)"
   ]
  },
  {
   "cell_type": "code",
   "execution_count": null,
   "id": "f5d22998",
   "metadata": {},
   "outputs": [],
   "source": [
    "# Get all the data for Bikes. \n",
    "just_bikes_df01 = products_join.loc[products_join[\"productsubcategorykey\"] <= 3]"
   ]
  },
  {
   "cell_type": "code",
   "execution_count": null,
   "id": "5677b57c",
   "metadata": {},
   "outputs": [],
   "source": [
    "just_bikes_df01.pop('productkey')"
   ]
  },
  {
   "cell_type": "code",
   "execution_count": null,
   "id": "31297362",
   "metadata": {},
   "outputs": [],
   "source": [
    "just_bikes_df01"
   ]
  },
  {
   "cell_type": "code",
   "execution_count": null,
   "id": "fa757b7f",
   "metadata": {},
   "outputs": [],
   "source": [
    "# Get model name data\n",
    "model_data = just_bikes_df01[\"modelname\"].value_counts()\n",
    "md1 = pd.DataFrame(model_data)\n",
    "md1.reset_index()"
   ]
  },
  {
   "cell_type": "code",
   "execution_count": null,
   "id": "99ae9f1c",
   "metadata": {},
   "outputs": [],
   "source": [
    "md1.rename(columns={'modelname': 'Quantity'},inplace=True)"
   ]
  },
  {
   "cell_type": "code",
   "execution_count": null,
   "id": "f264d8bd",
   "metadata": {},
   "outputs": [],
   "source": [
    "px.bar(md1, x=md1.index, y='Quantity')"
   ]
  },
  {
   "cell_type": "code",
   "execution_count": null,
   "id": "8449e1f6",
   "metadata": {},
   "outputs": [],
   "source": [
    "customers_df = pd.read_sql_query(\n",
    "    \"\"\"\n",
    "    SELECT\n",
    "    customerkey,\n",
    "    gender,\n",
    "    annualincome,\n",
    "    educationlevel\n",
    "    FROM customers\n",
    "     \n",
    "    \"\"\",\n",
    "    con=engine)"
   ]
  },
  {
   "cell_type": "code",
   "execution_count": null,
   "id": "19352c2d",
   "metadata": {},
   "outputs": [],
   "source": [
    "df4 = pd.merge(just_bikes_df01,customers_df, how=\"left\",on='customerkey')"
   ]
  },
  {
   "cell_type": "code",
   "execution_count": null,
   "id": "145ddccb",
   "metadata": {},
   "outputs": [],
   "source": [
    "df4"
   ]
  },
  {
   "cell_type": "code",
   "execution_count": null,
   "id": "40a91505",
   "metadata": {},
   "outputs": [],
   "source": [
    "# Get Education Level data\n",
    "Education_data = df4[\"educationlevel\"].value_counts()\n",
    "ed1 = pd.DataFrame(Education_data)\n",
    "ed1.reset_index()\n",
    "ed1.rename(columns={'educationlevel': 'Quantity'},inplace=True)\n",
    "px.bar(ed1, x=ed1.index, y='Quantity')"
   ]
  },
  {
   "cell_type": "code",
   "execution_count": null,
   "id": "23eb0fa8",
   "metadata": {},
   "outputs": [],
   "source": [
    "# Get Annual Income Level data\n",
    "annualincome_data = df4[\"annualincome\"].value_counts()\n",
    "ai1 = pd.DataFrame(annualincome_data)\n",
    "ai1.reset_index()\n",
    "ai1.rename(columns={'annualincome': 'Quantity'},inplace=True)\n",
    "px.bar(ai1, x=ai1.index, y='Quantity')"
   ]
  },
  {
   "cell_type": "code",
   "execution_count": null,
   "id": "b0ee6885",
   "metadata": {},
   "outputs": [],
   "source": [
    "first_table = pd.read_sql_query(\n",
    "    \"\"\"\n",
    "    SELECT\n",
    "    t.country,\n",
    "    cs.orderquantity\n",
    "    FROM territories t\n",
    "    INNER JOIN combined_sales AS cs\n",
    "    ON t.salesterritorykey = cs.salesterritorykey;\n",
    "     \n",
    "    \"\"\",\n",
    "    con=engine)\n"
   ]
  },
  {
   "cell_type": "code",
   "execution_count": null,
   "id": "cb011bd7",
   "metadata": {},
   "outputs": [],
   "source": [
    "first_table1 = first_table.groupby(by=\"country\", dropna = False).sum()"
   ]
  },
  {
   "cell_type": "code",
   "execution_count": null,
   "id": "04a0325c",
   "metadata": {},
   "outputs": [],
   "source": [
    "first_table1"
   ]
  },
  {
   "cell_type": "code",
   "execution_count": null,
   "id": "4516f9ce",
   "metadata": {},
   "outputs": [],
   "source": [
    "# Get Country Level data\n",
    "cd1 = pd.DataFrame(first_table1)\n",
    "cd1.reset_index()\n",
    "cd1.rename(columns={'orderquantity': 'Quantity'},inplace=True)\n",
    "px.bar(cd1, x=cd1.index, y='Quantity')"
   ]
  },
  {
   "cell_type": "code",
   "execution_count": null,
   "id": "a3dd782d",
   "metadata": {},
   "outputs": [],
   "source": [
    "second_table = pd.read_sql_query(\n",
    "    \"\"\"\n",
    "    SELECT\n",
    "    p.productname,\n",
    "    r.returnquantity\n",
    "    FROM products p\n",
    "    INNER JOIN returns r\n",
    "    ON p.productkey = r.productkey;\n",
    "     \n",
    "    \"\"\",\n",
    "    con=engine)\n",
    "second_table.head(10)"
   ]
  },
  {
   "cell_type": "code",
   "execution_count": null,
   "id": "950954fe",
   "metadata": {},
   "outputs": [],
   "source": [
    "px.bar(second_table, x='productname', y='returnquantity')"
   ]
  },
  {
   "cell_type": "code",
   "execution_count": null,
   "id": "7c721754",
   "metadata": {},
   "outputs": [],
   "source": [
    "third_table = pd.read_sql_query(\n",
    "    \"\"\"\n",
    "    SELECT\n",
    "    c.subcategoryname,\n",
    "    p.productcost,\n",
    "    p.productprice\n",
    "    FROM categories c\n",
    "    INNER JOIN products p\n",
    "    ON c.productsubcategorykey = p.productsubcategorykey;\n",
    "     \n",
    "    \"\"\",\n",
    "    con=engine)\n",
    "third_table.head()"
   ]
  },
  {
   "cell_type": "code",
   "execution_count": null,
   "id": "1093923a",
   "metadata": {},
   "outputs": [],
   "source": [
    "px.bar(third_table, x='subcategoryname', y='productprice')"
   ]
  },
  {
   "cell_type": "code",
   "execution_count": null,
   "id": "e04143c6",
   "metadata": {},
   "outputs": [],
   "source": [
    "forth_table = pd.read_sql_query(\n",
    "    \"\"\"\n",
    "    SELECT\n",
    "    c.totalchildren,\n",
    "    cs.orderquantity\n",
    "    FROM customers c\n",
    "    INNER JOIN combined_sales cs\n",
    "    ON c.customerkey = cs.customerkey;\n",
    "     \n",
    "    \"\"\",\n",
    "    con=engine)\n",
    "forth_table.head()"
   ]
  },
  {
   "cell_type": "code",
   "execution_count": null,
   "id": "5f8af1b7",
   "metadata": {},
   "outputs": [],
   "source": [
    "px.pie(forth_table, 'totalchildren', 'orderquantity')"
   ]
  },
  {
   "cell_type": "code",
   "execution_count": null,
   "id": "53980754",
   "metadata": {},
   "outputs": [],
   "source": []
  }
 ],
 "metadata": {
  "kernelspec": {
   "display_name": "PythonData",
   "language": "python",
   "name": "pythondata"
  },
  "language_info": {
   "codemirror_mode": {
    "name": "ipython",
    "version": 3
   },
   "file_extension": ".py",
   "mimetype": "text/x-python",
   "name": "python",
   "nbconvert_exporter": "python",
   "pygments_lexer": "ipython3",
   "version": "3.9.7"
  }
 },
 "nbformat": 4,
 "nbformat_minor": 5
}
