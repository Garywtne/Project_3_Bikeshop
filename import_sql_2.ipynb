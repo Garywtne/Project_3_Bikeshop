{
 "cells": [
  {
   "cell_type": "code",
   "execution_count": null,
   "id": "7e4d634c",
   "metadata": {},
   "outputs": [],
   "source": [
    "import pandas as pd\n",
    "import matplotlib.pyplot as plt\n",
    "import scipy.stats as st\n",
    "from sqlalchemy import create_engine\n",
    "from config import postgresPass as pw"
   ]
  },
  {
   "cell_type": "code",
   "execution_count": null,
   "id": "755aa5c9",
   "metadata": {},
   "outputs": [],
   "source": [
    "protocol = 'postgresql'\n",
    "username = 'postgres'\n",
    "password = pw\n",
    "host = 'localhost'\n",
    "port = 5432\n",
    "database_name = 'bike_shop_gw'\n",
    "engine = create_engine(f'{protocol}://{username}:{password}@{host}:{port}/{database_name}')\n",
    "   \n",
    "connection = engine.connect()"
   ]
  },
  {
   "cell_type": "code",
   "execution_count": null,
   "id": "53d4d1ea",
   "metadata": {},
   "outputs": [],
   "source": [
    "customers = pd.read_sql('select * from customers', connection)"
   ]
  },
  {
   "cell_type": "code",
   "execution_count": null,
   "id": "87827531",
   "metadata": {},
   "outputs": [],
   "source": [
    "customers.head()"
   ]
  },
  {
   "cell_type": "code",
   "execution_count": null,
   "id": "79e8318a",
   "metadata": {},
   "outputs": [],
   "source": [
    "products = pd.read_sql('select * from products', connection)"
   ]
  },
  {
   "cell_type": "code",
   "execution_count": null,
   "id": "4f2c32b4",
   "metadata": {},
   "outputs": [],
   "source": [
    "products.head()"
   ]
  },
  {
   "cell_type": "code",
   "execution_count": null,
   "id": "43d9754b",
   "metadata": {},
   "outputs": [],
   "source": [
    "sales_2015 = pd.read_sql('select * from Sales_2015', connection)"
   ]
  },
  {
   "cell_type": "code",
   "execution_count": null,
   "id": "322ad5a5",
   "metadata": {},
   "outputs": [],
   "source": [
    "sales_2015"
   ]
  },
  {
   "cell_type": "code",
   "execution_count": null,
   "id": "09df447e",
   "metadata": {},
   "outputs": [],
   "source": [
    "sales_2016 = pd.read_sql('select * from Sales_2016', connection)"
   ]
  },
  {
   "cell_type": "code",
   "execution_count": null,
   "id": "d8db1c6f",
   "metadata": {},
   "outputs": [],
   "source": [
    "sales_2016"
   ]
  },
  {
   "cell_type": "code",
   "execution_count": null,
   "id": "b2403c92",
   "metadata": {},
   "outputs": [],
   "source": [
    "sales_2017 = pd.read_sql('select * from Sales_2017', connection)"
   ]
  },
  {
   "cell_type": "code",
   "execution_count": null,
   "id": "1293683c",
   "metadata": {},
   "outputs": [],
   "source": [
    "sales_2017"
   ]
  },
  {
   "cell_type": "code",
   "execution_count": null,
   "id": "4fff844e",
   "metadata": {},
   "outputs": [],
   "source": [
    "product_cat = pd.read_sql('select * from p_categories', connection)"
   ]
  },
  {
   "cell_type": "code",
   "execution_count": null,
   "id": "bd224964",
   "metadata": {},
   "outputs": [],
   "source": [
    "product_cat"
   ]
  },
  {
   "cell_type": "code",
   "execution_count": null,
   "id": "bbd830a9",
   "metadata": {},
   "outputs": [],
   "source": [
    "product_subcat = pd.read_sql('select * from p_subcategories', connection)"
   ]
  },
  {
   "cell_type": "code",
   "execution_count": null,
   "id": "7712ea62",
   "metadata": {},
   "outputs": [],
   "source": [
    "product_subcat"
   ]
  },
  {
   "cell_type": "code",
   "execution_count": null,
   "id": "dbebfdae",
   "metadata": {},
   "outputs": [],
   "source": [
    "territories = pd.read_sql('select * from territories', connection)"
   ]
  },
  {
   "cell_type": "code",
   "execution_count": null,
   "id": "9fe02124",
   "metadata": {},
   "outputs": [],
   "source": [
    "territories"
   ]
  },
  {
   "cell_type": "code",
   "execution_count": null,
   "id": "f6a3bd51",
   "metadata": {},
   "outputs": [],
   "source": [
    "returns = pd.read_sql('select * from returns', connection)"
   ]
  },
  {
   "cell_type": "code",
   "execution_count": null,
   "id": "b4097221",
   "metadata": {},
   "outputs": [],
   "source": [
    "returns"
   ]
  },
  {
   "cell_type": "code",
   "execution_count": null,
   "id": "ab3eea87",
   "metadata": {},
   "outputs": [],
   "source": [
    "calendar = pd.read_sql('select * from calendar', connection)"
   ]
  },
  {
   "cell_type": "code",
   "execution_count": null,
   "id": "d572e753",
   "metadata": {},
   "outputs": [],
   "source": [
    "calendar"
   ]
  },
  {
   "cell_type": "code",
   "execution_count": null,
   "id": "a2350d67",
   "metadata": {},
   "outputs": [],
   "source": [
    "sales = [sales_2015, sales_2016, sales_2017]"
   ]
  },
  {
   "cell_type": "code",
   "execution_count": null,
   "id": "1c60f508",
   "metadata": {},
   "outputs": [],
   "source": [
    "all_sales = pd.concat(sales)"
   ]
  },
  {
   "cell_type": "code",
   "execution_count": null,
   "id": "599ef3e8",
   "metadata": {},
   "outputs": [],
   "source": [
    "all_sales"
   ]
  },
  {
   "cell_type": "code",
   "execution_count": null,
   "id": "0c87c334",
   "metadata": {},
   "outputs": [],
   "source": [
    "all_sales.rename(columns={'TerritoryKey': 'SalesTerritoryKey'},inplace=True)"
   ]
  },
  {
   "cell_type": "code",
   "execution_count": null,
   "id": "8050b1c5",
   "metadata": {},
   "outputs": [],
   "source": [
    "all_sales"
   ]
  },
  {
   "cell_type": "code",
   "execution_count": null,
   "id": "0e10a12b",
   "metadata": {},
   "outputs": [],
   "source": [
    "all_sales_reset = all_sales.reset_index(drop=True)"
   ]
  },
  {
   "cell_type": "code",
   "execution_count": null,
   "id": "734bcd20",
   "metadata": {},
   "outputs": [],
   "source": [
    "just_sales = all_sales_reset['ProductKey'].value_counts()"
   ]
  },
  {
   "cell_type": "code",
   "execution_count": null,
   "id": "0babdafd",
   "metadata": {},
   "outputs": [],
   "source": [
    "counts = just_sales\n",
    "plt.bar(counts.index.values,counts.values)\n",
    "plt.xlabel(\"Product\")\n",
    "plt.xticks(rotation=90)\n",
    "plt.ylabel(\"Sales qty\")\n",
    "plt.show()"
   ]
  },
  {
   "cell_type": "code",
   "execution_count": null,
   "id": "88fa3682",
   "metadata": {},
   "outputs": [],
   "source": [
    "all_sales_reset"
   ]
  },
  {
   "cell_type": "code",
   "execution_count": null,
   "id": "27e6df83",
   "metadata": {},
   "outputs": [],
   "source": [
    "territory_sales = pd.merge(territories,all_sales_reset, how=\"right\",on='SalesTerritoryKey')"
   ]
  },
  {
   "cell_type": "code",
   "execution_count": null,
   "id": "a32c8435",
   "metadata": {},
   "outputs": [],
   "source": [
    "territory_sales"
   ]
  },
  {
   "cell_type": "code",
   "execution_count": null,
   "id": "ed6038d0",
   "metadata": {},
   "outputs": [],
   "source": [
    "product_sales = pd.merge(products,territory_sales, how=\"right\",on='ProductKey')"
   ]
  },
  {
   "cell_type": "code",
   "execution_count": null,
   "id": "a099e128",
   "metadata": {},
   "outputs": [],
   "source": [
    "product_sales"
   ]
  },
  {
   "cell_type": "code",
   "execution_count": null,
   "id": "5bb2f663",
   "metadata": {},
   "outputs": [],
   "source": [
    "customer_sales = pd.merge(customers,product_sales, how=\"right\",on='CustomerKey')"
   ]
  },
  {
   "cell_type": "code",
   "execution_count": null,
   "id": "6445d32d",
   "metadata": {},
   "outputs": [],
   "source": [
    "customer_sales"
   ]
  },
  {
   "cell_type": "code",
   "execution_count": null,
   "id": "39e45b0e",
   "metadata": {},
   "outputs": [],
   "source": [
    "categories = pd.merge(product_subcat,product_cat, how=\"right\",on='ProductCategoryKey')"
   ]
  },
  {
   "cell_type": "code",
   "execution_count": null,
   "id": "2530a977",
   "metadata": {},
   "outputs": [],
   "source": [
    "categories"
   ]
  },
  {
   "cell_type": "code",
   "execution_count": null,
   "id": "aa5963d1",
   "metadata": {},
   "outputs": [],
   "source": [
    "all_data = pd.merge(categories,customer_sales, how=\"right\",on='ProductSubcategoryKey')"
   ]
  },
  {
   "cell_type": "code",
   "execution_count": null,
   "id": "be0b2307",
   "metadata": {},
   "outputs": [],
   "source": [
    "all_data"
   ]
  },
  {
   "cell_type": "code",
   "execution_count": null,
   "id": "00760ea4",
   "metadata": {},
   "outputs": [],
   "source": [
    "print(all_data.columns) "
   ]
  },
  {
   "cell_type": "code",
   "execution_count": null,
   "id": "973298b5",
   "metadata": {},
   "outputs": [],
   "source": [
    "gender = all_data['Gender'].value_counts()"
   ]
  },
  {
   "cell_type": "code",
   "execution_count": null,
   "id": "cd1c9036",
   "metadata": {},
   "outputs": [],
   "source": [
    "gender"
   ]
  },
  {
   "cell_type": "code",
   "execution_count": null,
   "id": "8b4f2f91",
   "metadata": {},
   "outputs": [],
   "source": [
    "counts = gender\n",
    "counts.plot(kind=\"pie\",autopct='%1.1f%%')\n",
    "plt.show()"
   ]
  },
  {
   "cell_type": "code",
   "execution_count": null,
   "id": "71c1374f",
   "metadata": {},
   "outputs": [],
   "source": [
    "all_data.to_csv('all_data.csv')"
   ]
  },
  {
   "cell_type": "code",
   "execution_count": null,
   "id": "a1687edd",
   "metadata": {},
   "outputs": [],
   "source": []
  },
  {
   "cell_type": "code",
   "execution_count": null,
   "id": "97da6f53",
   "metadata": {},
   "outputs": [],
   "source": []
  }
 ],
 "metadata": {
  "kernelspec": {
   "display_name": "PythonData",
   "language": "python",
   "name": "pythondata"
  },
  "language_info": {
   "codemirror_mode": {
    "name": "ipython",
    "version": 3
   },
   "file_extension": ".py",
   "mimetype": "text/x-python",
   "name": "python",
   "nbconvert_exporter": "python",
   "pygments_lexer": "ipython3",
   "version": "3.9.7"
  }
 },
 "nbformat": 4,
 "nbformat_minor": 5
}
