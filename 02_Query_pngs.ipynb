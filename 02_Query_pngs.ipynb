{
 "cells": [
  {
   "cell_type": "code",
   "execution_count": null,
   "id": "da33ed7b",
   "metadata": {},
   "outputs": [],
   "source": [
    "import pandas as pd\n",
    "from sqlalchemy import create_engine\n",
    "import matplotlib.pyplot as plt\n",
    "from config import postgresPass as pw\n",
    "from config import databasename as dbn\n",
    "import plotly.express as px"
   ]
  },
  {
   "cell_type": "code",
   "execution_count": null,
   "id": "3c25c9af",
   "metadata": {},
   "outputs": [],
   "source": [
    "%matplotlib inline\n",
    "from matplotlib import style\n",
    "style.use('fivethirtyeight')"
   ]
  },
  {
   "cell_type": "code",
   "execution_count": null,
   "id": "5407ad9c",
   "metadata": {},
   "outputs": [],
   "source": [
    "import numpy as np\n",
    "import datetime as dt"
   ]
  },
  {
   "cell_type": "code",
   "execution_count": null,
   "id": "f34bff6d",
   "metadata": {},
   "outputs": [],
   "source": [
    "# Python SQL toolkit and Object Relational Mapper\n",
    "import sqlalchemy\n",
    "from sqlalchemy.ext.automap import automap_base\n",
    "from sqlalchemy.orm import Session\n",
    "from sqlalchemy import func, inspect"
   ]
  },
  {
   "cell_type": "code",
   "execution_count": null,
   "id": "48c568c8",
   "metadata": {},
   "outputs": [],
   "source": [
    "protocol = 'postgresql'\n",
    "username = 'postgres'\n",
    "password = pw\n",
    "host = 'localhost'\n",
    "port = 5432\n",
    "database_name = dbn\n",
    "rds_connection_string = f'{protocol}://{username}:{password}@{host}:{port}/{database_name}'\n",
    "engine = create_engine(rds_connection_string)"
   ]
  },
  {
   "cell_type": "code",
   "execution_count": null,
   "id": "dee2fca6",
   "metadata": {},
   "outputs": [],
   "source": [
    "# reflect an existing database into a new model\n",
    "Base = automap_base()\n",
    "# reflect the tables\n",
    "Base.prepare(engine,reflect=True)"
   ]
  },
  {
   "cell_type": "code",
   "execution_count": null,
   "id": "254d1d5f",
   "metadata": {},
   "outputs": [],
   "source": [
    "# View all of the classes that automap found\n",
    "Base.classes.keys()"
   ]
  },
  {
   "cell_type": "code",
   "execution_count": null,
   "id": "ba8cf748",
   "metadata": {},
   "outputs": [],
   "source": [
    "inspector = inspect(engine)\n",
    "inspector.get_table_names()"
   ]
  },
  {
   "cell_type": "code",
   "execution_count": null,
   "id": "4bd6dffa",
   "metadata": {},
   "outputs": [],
   "source": [
    "# Save references to each table\n",
    "customers = Base.classes.customers\n",
    "sales = Base.classes.combined_sales\n",
    "calendar = Base.classes.calendar\n",
    "products = Base.classes.products\n",
    "categories = Base.classes.categories\n",
    "returns = Base.classes.returns\n",
    "territories = Base.classes.territories"
   ]
  },
  {
   "cell_type": "code",
   "execution_count": null,
   "id": "2bb80a8b",
   "metadata": {},
   "outputs": [],
   "source": [
    "# Create our session (link) from Python to the DB\n",
    "session = Session(engine)"
   ]
  },
  {
   "cell_type": "code",
   "execution_count": null,
   "id": "6b4ec26c",
   "metadata": {},
   "outputs": [],
   "source": [
    "# Get a list of column names and types for products\n",
    "product_columns = inspector.get_columns('products')\n",
    "for p in product_columns:\n",
    "    print(p['name'], p[\"type\"])"
   ]
  },
  {
   "cell_type": "code",
   "execution_count": null,
   "id": "fd451f9e",
   "metadata": {},
   "outputs": [],
   "source": [
    "# Design a query to calculate the total number of products in each product sub category\n",
    "result3 = session.query(products.productsubcategorykey, func.count(products.productsubcategorykey)).\\\n",
    "    group_by(products.productsubcategorykey).order_by(products.productsubcategorykey).all()"
   ]
  },
  {
   "cell_type": "code",
   "execution_count": null,
   "id": "1fa8d46a",
   "metadata": {},
   "outputs": [],
   "source": [
    "df3 = pd.DataFrame(result3)"
   ]
  },
  {
   "cell_type": "code",
   "execution_count": null,
   "id": "a97d60bd",
   "metadata": {},
   "outputs": [],
   "source": [
    "df3.rename(columns={1: 'Quantity'},inplace=True)"
   ]
  },
  {
   "cell_type": "code",
   "execution_count": null,
   "id": "a270e11c",
   "metadata": {},
   "outputs": [],
   "source": [
    "df3.rename(columns={0: 'Product Subcategory'},inplace=True)"
   ]
  },
  {
   "cell_type": "code",
   "execution_count": null,
   "id": "f6b63a4b",
   "metadata": {},
   "outputs": [],
   "source": [
    "fig = px.bar(df3, x='Product Subcategory', y='Quantity')\n",
    "fig.update_layout(paper_bgcolor = \"rgba(0,0,0,0)\",               \n",
    "plot_bgcolor = \"rgba(0,0,0,0)\",\n",
    "autosize=False,\n",
    "width=800,\n",
    "height=550)\n",
    "fig"
   ]
  },
  {
   "cell_type": "code",
   "execution_count": null,
   "id": "2dd282b3",
   "metadata": {},
   "outputs": [],
   "source": [
    "df3 = pd.DataFrame(result3)\n",
    "\n",
    "# Save the query results as a Pandas DataFrame and set the index to the Education Level column\n",
    "df3 = pd.DataFrame(result3,columns=['category', 'number of products'])\n",
    "\n",
    "# Use Pandas Plotting with Matplotlib to plot the data\n",
    "\n",
    "df3.plot.bar(x='category', y='number of products',rot=0,fontsize=7 )\n",
    "plt.xlabel(\"category\")\n",
    "# plt.ylabel(\"number of products\")\n",
    "\n",
    "# Add title\n",
    "plt.title(\"products in each category\", fontsize=20)\n",
    "\n",
    "# Save to folder\n",
    "plt.savefig(\"Visualizations/Categories.png\")"
   ]
  },
  {
   "cell_type": "code",
   "execution_count": null,
   "id": "18977fe5",
   "metadata": {},
   "outputs": [],
   "source": [
    "all_sales_df = pd.read_sql_query(\n",
    "    \"\"\"\n",
    "    SELECT\n",
    "    \"productkey\",\n",
    "    \"customerkey\",\n",
    "    \"salesterritorykey\",\n",
    "    \"orderquantity\"\n",
    "    FROM combined_sales\n",
    "    \"\"\",\n",
    "    con=engine)"
   ]
  },
  {
   "cell_type": "code",
   "execution_count": null,
   "id": "7acd6e0a",
   "metadata": {},
   "outputs": [],
   "source": [
    "all_sales_df"
   ]
  },
  {
   "cell_type": "code",
   "execution_count": null,
   "id": "0780ac33",
   "metadata": {},
   "outputs": [],
   "source": [
    "territories_df = pd.read_sql_query(\n",
    "    \"\"\"\n",
    "    SELECT\n",
    "    \"salesterritorykey\",\n",
    "    \"country\",\n",
    "    \"region\",\n",
    "    \"continent\"\n",
    "    FROM territories\n",
    "    \"\"\",\n",
    "    con=engine)"
   ]
  },
  {
   "cell_type": "code",
   "execution_count": null,
   "id": "3e5784d2",
   "metadata": {},
   "outputs": [],
   "source": [
    "all_sales_df1 = pd.merge(all_sales_df,territories_df, how=\"left\",on='salesterritorykey')"
   ]
  },
  {
   "cell_type": "code",
   "execution_count": null,
   "id": "f94212b4",
   "metadata": {},
   "outputs": [],
   "source": [
    "products_df = pd.read_sql_query(\n",
    "    \"\"\"\n",
    "    SELECT\n",
    "    \"productkey\",\n",
    "    \"modelname\",\n",
    "    \"productsize\",\n",
    "    \"productcolor\",\n",
    "    \"productsubcategorykey\"\n",
    "    FROM products\n",
    "    \"\"\",\n",
    "    con=engine)"
   ]
  },
  {
   "cell_type": "code",
   "execution_count": null,
   "id": "884708a6",
   "metadata": {},
   "outputs": [],
   "source": [
    "all_sales_df2 = pd.merge(all_sales_df1,products_df, how=\"left\",on='productkey')"
   ]
  },
  {
   "cell_type": "code",
   "execution_count": null,
   "id": "ca68dc06",
   "metadata": {},
   "outputs": [],
   "source": [
    "categories_df = pd.read_sql_query(\n",
    "    \"\"\"\n",
    "    SELECT\n",
    "    \"productsubcategorykey\",\n",
    "    \"subcategoryname\",\n",
    "    \"categoryname\"\n",
    "    FROM categories\n",
    "    \"\"\",\n",
    "    con=engine)"
   ]
  },
  {
   "cell_type": "code",
   "execution_count": null,
   "id": "2043ea95",
   "metadata": {},
   "outputs": [],
   "source": [
    "all_sales_df3 = pd.merge(all_sales_df2,categories_df, how=\"left\",on='productsubcategorykey')"
   ]
  },
  {
   "cell_type": "code",
   "execution_count": null,
   "id": "9ff60921",
   "metadata": {},
   "outputs": [],
   "source": [
    "customers_df = pd.read_sql_query(\n",
    "    \"\"\"\n",
    "    SELECT\n",
    "    customerkey,\n",
    "    gender,\n",
    "    educationlevel\n",
    "   FROM customers;\n",
    "     \n",
    "    \"\"\",\n",
    "    con=engine)"
   ]
  },
  {
   "cell_type": "code",
   "execution_count": null,
   "id": "ab525dfb",
   "metadata": {},
   "outputs": [],
   "source": [
    "all_sales_df4 = pd.merge(all_sales_df3,customers_df, how=\"left\",on='customerkey')"
   ]
  },
  {
   "cell_type": "code",
   "execution_count": null,
   "id": "db57e89b",
   "metadata": {},
   "outputs": [],
   "source": [
    "all_sales_df4"
   ]
  },
  {
   "cell_type": "code",
   "execution_count": null,
   "id": "38dcc921",
   "metadata": {},
   "outputs": [],
   "source": [
    "all_sales_df4.pop('continent')"
   ]
  },
  {
   "cell_type": "code",
   "execution_count": null,
   "id": "92811e77",
   "metadata": {},
   "outputs": [],
   "source": [
    "all_sales_df4.pop('salesterritorykey')"
   ]
  },
  {
   "cell_type": "code",
   "execution_count": null,
   "id": "0853cee4",
   "metadata": {},
   "outputs": [],
   "source": [
    "all_sales_df4.pop('productsubcategorykey')"
   ]
  },
  {
   "cell_type": "code",
   "execution_count": null,
   "id": "ae266a1d",
   "metadata": {},
   "outputs": [],
   "source": [
    "all_sales_df4"
   ]
  },
  {
   "cell_type": "code",
   "execution_count": null,
   "id": "408f8fec",
   "metadata": {},
   "outputs": [],
   "source": [
    "# Get all the data for Bikes. \n",
    "just_bikes_df = all_sales_df4.loc[all_sales_df4[\"categoryname\"] == \"Bikes\"]\n",
    "just_bikes_df"
   ]
  },
  {
   "cell_type": "code",
   "execution_count": null,
   "id": "6e0d9023",
   "metadata": {},
   "outputs": [],
   "source": [
    "just_bikes_df.pop('productkey')"
   ]
  },
  {
   "cell_type": "code",
   "execution_count": null,
   "id": "f5922aa9",
   "metadata": {},
   "outputs": [],
   "source": [
    "just_bikes_df.pop('customerkey')"
   ]
  },
  {
   "cell_type": "code",
   "execution_count": null,
   "id": "d72b30b7",
   "metadata": {},
   "outputs": [],
   "source": [
    "just_bikes_df"
   ]
  },
  {
   "cell_type": "code",
   "execution_count": null,
   "id": "6c1d0f76",
   "metadata": {},
   "outputs": [],
   "source": [
    "just_bikes_df.to_csv('Resources/just_bikes.csv',index = False)"
   ]
  },
  {
   "cell_type": "code",
   "execution_count": null,
   "id": "a877e993",
   "metadata": {},
   "outputs": [],
   "source": [
    "jb1 = pd.read_csv (r'Resources/just_bikes.csv')"
   ]
  },
  {
   "cell_type": "code",
   "execution_count": null,
   "id": "280497ef",
   "metadata": {},
   "outputs": [],
   "source": [
    "# Get model name data\n",
    "model_data = jb1[\"modelname\"].value_counts()\n",
    "model_data"
   ]
  },
  {
   "cell_type": "code",
   "execution_count": null,
   "id": "36b5fb60",
   "metadata": {},
   "outputs": [],
   "source": [
    "# Create plot\n",
    "model_data.plot(kind=\"bar\", facecolor=\"red\", rot=45,figsize=(10,10) )\n",
    "\n",
    "# Set title and axis labels\n",
    "plt.title(\"Bike sales by Model Name\")\n",
    "plt.ylabel(\"Bike sales\")\n",
    "plt.xlabel(\"Model Name\")\n",
    "\n",
    "# Resize plot to display labels\n",
    "plt.tight_layout()\n",
    "plt.savefig(\"Visualizations/bike_sales_Model.png\")"
   ]
  },
  {
   "cell_type": "code",
   "execution_count": null,
   "id": "11a18ee2",
   "metadata": {},
   "outputs": [],
   "source": [
    "# Get Country Level data\n",
    "Country_data = just_bikes_df[\"country\"].value_counts()\n",
    "Country_data"
   ]
  },
  {
   "cell_type": "code",
   "execution_count": null,
   "id": "d62e8896",
   "metadata": {},
   "outputs": [],
   "source": [
    "# Create plot\n",
    "Country_data.plot(kind=\"bar\", facecolor=\"red\", rot=45,figsize=(10,10) )\n",
    "\n",
    "# Set title and axis labels\n",
    "plt.title(\"Bike sales by Country\")\n",
    "plt.ylabel(\"Bike sales\")\n",
    "plt.xlabel(\"Country\")\n",
    "\n",
    "# Resize plot to display labels\n",
    "plt.tight_layout()\n",
    "plt.savefig(\"Visualizations/bike_sales_Country.png\")"
   ]
  },
  {
   "cell_type": "code",
   "execution_count": null,
   "id": "9003f7b0",
   "metadata": {},
   "outputs": [],
   "source": [
    "# Get Size Level data\n",
    "Size_data = just_bikes_df[\"productsize\"].value_counts()\n",
    "Size_data"
   ]
  },
  {
   "cell_type": "code",
   "execution_count": null,
   "id": "58afa45d",
   "metadata": {},
   "outputs": [],
   "source": [
    "# Create plot\n",
    "Size_data.plot(kind=\"bar\", facecolor=\"red\", rot=45,figsize=(10,10) )\n",
    "\n",
    "# Set title and axis labels\n",
    "plt.title(\"Bike sales by Size\")\n",
    "plt.ylabel(\"Bike sales\")\n",
    "plt.xlabel(\"Bike Size\")\n",
    "\n",
    "# Resize plot to display labels\n",
    "plt.tight_layout()\n",
    "plt.savefig(\"Visualizations/bike_sales_Size.png\")"
   ]
  },
  {
   "cell_type": "code",
   "execution_count": null,
   "id": "59d00468",
   "metadata": {},
   "outputs": [],
   "source": [
    "# Get Colour Level data\n",
    "Colour_data = just_bikes_df[\"productcolor\"].value_counts()\n",
    "Colour_data"
   ]
  },
  {
   "cell_type": "code",
   "execution_count": null,
   "id": "44be4b32",
   "metadata": {},
   "outputs": [],
   "source": [
    "# Create plot\n",
    "Colour_data.plot(kind=\"bar\", facecolor=\"red\", rot=45,figsize=(10,10) )\n",
    "\n",
    "# Set title and axis labels\n",
    "plt.title(\"Bike sales by Colour\")\n",
    "plt.ylabel(\"Bike sales\")\n",
    "plt.xlabel(\"Bike Colour\")\n",
    "\n",
    "# Resize plot to display labels\n",
    "plt.tight_layout()\n",
    "plt.savefig(\"Visualizations/bike_sales_Colour.png\")"
   ]
  },
  {
   "cell_type": "code",
   "execution_count": null,
   "id": "edb3d715",
   "metadata": {},
   "outputs": [],
   "source": [
    "# Close Session\n",
    "session.close()"
   ]
  },
  {
   "cell_type": "code",
   "execution_count": null,
   "id": "02a97f20",
   "metadata": {},
   "outputs": [],
   "source": []
  },
  {
   "cell_type": "code",
   "execution_count": null,
   "id": "f064b228",
   "metadata": {},
   "outputs": [],
   "source": []
  }
 ],
 "metadata": {
  "kernelspec": {
   "display_name": "PythonData",
   "language": "python",
   "name": "pythondata"
  },
  "language_info": {
   "codemirror_mode": {
    "name": "ipython",
    "version": 3
   },
   "file_extension": ".py",
   "mimetype": "text/x-python",
   "name": "python",
   "nbconvert_exporter": "python",
   "pygments_lexer": "ipython3",
   "version": "3.9.7"
  }
 },
 "nbformat": 4,
 "nbformat_minor": 5
}
